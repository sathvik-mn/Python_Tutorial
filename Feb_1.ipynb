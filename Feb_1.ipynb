{
 "cells": [
  {
   "cell_type": "code",
   "execution_count": 1,
   "id": "2b145fe5-6e48-4634-bbb3-19ca6f8f0eda",
   "metadata": {},
   "outputs": [],
   "source": [
    "import pandas as pd\n",
    "import numpy as np"
   ]
  },
  {
   "cell_type": "code",
   "execution_count": 3,
   "id": "8ce73833-3679-4ee2-8bc3-d3e7f648c42c",
   "metadata": {},
   "outputs": [],
   "source": [
    "age = 30\n",
    "country = 'Brazil'"
   ]
  },
  {
   "cell_type": "code",
   "execution_count": 7,
   "id": "73cfeb6f-c1db-4e2d-a858-21e654e56c44",
   "metadata": {},
   "outputs": [
    {
     "data": {
      "text/plain": [
       "True"
      ]
     },
     "execution_count": 7,
     "metadata": {},
     "output_type": "execute_result"
    }
   ],
   "source": [
    "10**3 == 1000"
   ]
  },
  {
   "cell_type": "code",
   "execution_count": 13,
   "id": "35296908-ca05-46c5-87fa-41dcf7078aa6",
   "metadata": {},
   "outputs": [
    {
     "data": {
      "text/plain": [
       "True"
      ]
     },
     "execution_count": 13,
     "metadata": {},
     "output_type": "execute_result"
    }
   ],
   "source": [
    "10*3 == age"
   ]
  },
  {
   "cell_type": "code",
   "execution_count": 17,
   "id": "8bfe70bd-e6bd-459d-bfce-34a202945c44",
   "metadata": {},
   "outputs": [
    {
     "name": "stdout",
     "output_type": "stream",
     "text": [
      "adult\n"
     ]
    }
   ],
   "source": [
    "if age >= 18:\n",
    "    print(\"adult\")\n",
    "else:\n",
    "    print(\"minor\")"
   ]
  },
  {
   "cell_type": "code",
   "execution_count": 19,
   "id": "33a2aafd-3745-4758-bf48-668440545e04",
   "metadata": {},
   "outputs": [
    {
     "name": "stdout",
     "output_type": "stream",
     "text": [
      "Gnadsu\n"
     ]
    }
   ],
   "source": [
    "if age <= 18:\n",
    "    print(\"child chapathi\")\n",
    "else:\n",
    "    print(\"Gnadsu\")"
   ]
  },
  {
   "cell_type": "code",
   "execution_count": 21,
   "id": "6156b9c6-0bb8-4226-ba10-44336c14a418",
   "metadata": {},
   "outputs": [],
   "source": [
    "#Loop"
   ]
  },
  {
   "cell_type": "code",
   "execution_count": 31,
   "id": "76135b92-2b51-432c-92a2-dd56f26b7f2d",
   "metadata": {},
   "outputs": [
    {
     "name": "stdout",
     "output_type": "stream",
     "text": [
      "1\n",
      "2\n",
      "3\n",
      "4\n",
      "5\n",
      "0\n"
     ]
    }
   ],
   "source": [
    "for number in [1,2,3,4,5,0]:\n",
    "    print(number)"
   ]
  },
  {
   "cell_type": "code",
   "execution_count": 33,
   "id": "a6bd8599-8469-4a8b-8588-3ecb89287f8f",
   "metadata": {},
   "outputs": [
    {
     "name": "stdout",
     "output_type": "stream",
     "text": [
      "1.0\n",
      "1.3333333333333333\n",
      "3.0\n",
      "4.0\n"
     ]
    }
   ],
   "source": [
    "my = [3,4,9,12]\n",
    "for number in my:\n",
    "    print(number/3)"
   ]
  },
  {
   "cell_type": "code",
   "execution_count": 35,
   "id": "6420d4f5-ca6b-46fa-b310-7f8cd640443b",
   "metadata": {},
   "outputs": [],
   "source": [
    "#Function\n",
    "\n",
    "def adult (age):\n",
    "    if age>=18:\n",
    "        print(\"gandsi\")\n",
    "    else:\n",
    "        print('child')"
   ]
  },
  {
   "cell_type": "code",
   "execution_count": 37,
   "id": "256e11a6-ec5f-4daa-818b-379c9220191a",
   "metadata": {},
   "outputs": [
    {
     "name": "stdout",
     "output_type": "stream",
     "text": [
      "child\n"
     ]
    }
   ],
   "source": [
    "adult(14)"
   ]
  },
  {
   "cell_type": "code",
   "execution_count": 41,
   "id": "d6646cb4-60c1-4edf-9d26-e1426bcc2165",
   "metadata": {},
   "outputs": [
    {
     "data": {
      "text/plain": [
       "[0, 3, 3, 4, 5, 6, 10]"
      ]
     },
     "execution_count": 41,
     "metadata": {},
     "output_type": "execute_result"
    }
   ],
   "source": [
    "list = [0,10,4,3,6,3,5]\n",
    "sorted(list)"
   ]
  },
  {
   "cell_type": "code",
   "execution_count": 51,
   "id": "6e3df457-dd9c-40d0-a021-6782efba55e6",
   "metadata": {},
   "outputs": [
    {
     "name": "stdout",
     "output_type": "stream",
     "text": [
      "HOCUS POCUS\n",
      "<class 'str'>\n"
     ]
    }
   ],
   "source": [
    "#Class\n",
    "\n",
    "magic = \"HOCUS POCUS\"\n",
    "print(magic)\n",
    "print(type(magic))"
   ]
  },
  {
   "cell_type": "code",
   "execution_count": 49,
   "id": "aa783ea5-be8a-4ae7-b496-9217eb50dc4a",
   "metadata": {},
   "outputs": [
    {
     "name": "stdout",
     "output_type": "stream",
     "text": [
      "786\n",
      "<class 'int'>\n"
     ]
    }
   ],
   "source": [
    "magic = 786\n",
    "print(magic)\n",
    "print(type(magic))"
   ]
  },
  {
   "cell_type": "code",
   "execution_count": 53,
   "id": "2225a363-9bba-43f2-a755-d1a38d65b34c",
   "metadata": {},
   "outputs": [
    {
     "data": {
      "text/plain": [
       "'hocus pocus'"
      ]
     },
     "execution_count": 53,
     "metadata": {},
     "output_type": "execute_result"
    }
   ],
   "source": [
    "magic = magic.swapcase()\n",
    "magic"
   ]
  },
  {
   "cell_type": "code",
   "execution_count": 73,
   "id": "0bf78ac4-a6d3-4852-8849-f6282b2868c1",
   "metadata": {},
   "outputs": [
    {
     "data": {
      "text/plain": [
       "'bOcus pocus'"
      ]
     },
     "execution_count": 73,
     "metadata": {},
     "output_type": "execute_result"
    }
   ],
   "source": [
    "magic = magic.swapcase()\n",
    "magic"
   ]
  },
  {
   "cell_type": "code",
   "execution_count": 75,
   "id": "b21bcea5-2a01-4eb4-9515-a05386622817",
   "metadata": {},
   "outputs": [
    {
     "data": {
      "text/plain": [
       "'bOcus pocus'"
      ]
     },
     "execution_count": 75,
     "metadata": {},
     "output_type": "execute_result"
    }
   ],
   "source": [
    "magic = magic.replace('HO', 'Bo')\n",
    "magic"
   ]
  },
  {
   "cell_type": "code",
   "execution_count": 77,
   "id": "316be92d-2a39-4d74-a932-38f835a48271",
   "metadata": {},
   "outputs": [
    {
     "data": {
      "text/plain": [
       "['bOcus', 'pocus']"
      ]
     },
     "execution_count": 77,
     "metadata": {},
     "output_type": "execute_result"
    }
   ],
   "source": [
    "magic = magic.split()\n",
    "magic"
   ]
  },
  {
   "cell_type": "code",
   "execution_count": 79,
   "id": "01b7ebbf-fef1-46df-8a5c-dae5adcbe04b",
   "metadata": {},
   "outputs": [
    {
     "data": {
      "text/plain": [
       "'pocus'"
      ]
     },
     "execution_count": 79,
     "metadata": {},
     "output_type": "execute_result"
    }
   ],
   "source": [
    "magic = magic.pop()\n",
    "magic"
   ]
  },
  {
   "cell_type": "code",
   "execution_count": null,
   "id": "de42e851-bb50-428b-8cba-4fcb93d2ac16",
   "metadata": {},
   "outputs": [],
   "source": []
  },
  {
   "cell_type": "code",
   "execution_count": 81,
   "id": "009139fd-17fe-4145-94a3-c3273a12b8b5",
   "metadata": {},
   "outputs": [
    {
     "data": {
      "text/plain": [
       "'POCUS'"
      ]
     },
     "execution_count": 81,
     "metadata": {},
     "output_type": "execute_result"
    }
   ],
   "source": [
    "magic = magic.swapcase()\n",
    "magic"
   ]
  },
  {
   "cell_type": "code",
   "execution_count": 83,
   "id": "523cebed-689b-4c09-9087-b65ff6b7a169",
   "metadata": {},
   "outputs": [],
   "source": [
    "#Anything after dot notation and has () is called a method of the class of method."
   ]
  },
  {
   "cell_type": "code",
   "execution_count": 85,
   "id": "8547ee2c-15ed-4775-8fd0-019b9c152463",
   "metadata": {},
   "outputs": [],
   "source": [
    "#Anything after dot and dont have () are attributes"
   ]
  },
  {
   "cell_type": "code",
   "execution_count": 97,
   "id": "30bac9e9-67cf-4079-bdb0-37eee7346639",
   "metadata": {},
   "outputs": [
    {
     "data": {
      "text/plain": [
       "54"
      ]
     },
     "execution_count": 97,
     "metadata": {},
     "output_type": "execute_result"
    }
   ],
   "source": [
    "age = [23,42,32,54,12]\n",
    "max_age = max(age)\n",
    "max_age"
   ]
  },
  {
   "cell_type": "code",
   "execution_count": 101,
   "id": "fe91535c-d705-4e53-b823-ea596f789e91",
   "metadata": {},
   "outputs": [
    {
     "data": {
      "text/plain": [
       "12"
      ]
     },
     "execution_count": 101,
     "metadata": {},
     "output_type": "execute_result"
    }
   ],
   "source": [
    "min_age = min(age)\n",
    "min_age"
   ]
  },
  {
   "cell_type": "code",
   "execution_count": 103,
   "id": "c9bc3fdd-d9ee-4926-9367-46002ca91993",
   "metadata": {},
   "outputs": [
    {
     "data": {
      "text/plain": [
       "42"
      ]
     },
     "execution_count": 103,
     "metadata": {},
     "output_type": "execute_result"
    }
   ],
   "source": [
    "dif = max_age - min_age\n",
    "dif"
   ]
  },
  {
   "cell_type": "code",
   "execution_count": 1,
   "id": "d067be29-6596-4afd-a7ab-01b4e7f88e4e",
   "metadata": {},
   "outputs": [],
   "source": [
    "##FUNCTIONS"
   ]
  },
  {
   "cell_type": "code",
   "execution_count": 3,
   "id": "154fb214-d767-4bad-9166-96f2e55d1c05",
   "metadata": {},
   "outputs": [
    {
     "data": {
      "text/plain": [
       "int"
      ]
     },
     "execution_count": 3,
     "metadata": {},
     "output_type": "execute_result"
    }
   ],
   "source": [
    "number = 15\n",
    "type(number)"
   ]
  },
  {
   "cell_type": "code",
   "execution_count": 9,
   "id": "c0c943ae-0aef-448b-88c1-5b3524d5c975",
   "metadata": {},
   "outputs": [
    {
     "data": {
      "text/plain": [
       "str"
      ]
     },
     "execution_count": 9,
     "metadata": {},
     "output_type": "execute_result"
    }
   ],
   "source": [
    "number = str(number)\n",
    "type(number)"
   ]
  },
  {
   "cell_type": "code",
   "execution_count": 7,
   "id": "951747fe-3572-41f1-8391-828ebf7ba3ff",
   "metadata": {},
   "outputs": [
    {
     "data": {
      "text/plain": [
       "'15'"
      ]
     },
     "execution_count": 7,
     "metadata": {},
     "output_type": "execute_result"
    }
   ],
   "source": [
    "number"
   ]
  },
  {
   "cell_type": "code",
   "execution_count": 19,
   "id": "2e0a0702-25f8-4afc-8df2-baa216ff4c84",
   "metadata": {},
   "outputs": [
    {
     "name": "stdout",
     "output_type": "stream",
     "text": [
      "Welcome,Rebecca!\n",
      "you are part of team!\n"
     ]
    }
   ],
   "source": [
    "def greeting(name):\n",
    "    print('Welcome,' + name + '!')\n",
    "    print('you are part of team!')\n",
    "greeting('Rebecca')"
   ]
  },
  {
   "cell_type": "code",
   "execution_count": 21,
   "id": "98ef77d6-1b2b-4395-a31e-0bd14311b4b5",
   "metadata": {},
   "outputs": [
    {
     "name": "stdout",
     "output_type": "stream",
     "text": [
      "Welcome,Sathvik!\n",
      "you are part of team!\n"
     ]
    }
   ],
   "source": [
    "greeting('Sathvik')"
   ]
  },
  {
   "cell_type": "code",
   "execution_count": 23,
   "id": "e8ac14f6-1f97-4271-bef4-445c3c436273",
   "metadata": {},
   "outputs": [],
   "source": [
    "def area_triangle(base, height):\n",
    "    return base*height/2"
   ]
  },
  {
   "cell_type": "code",
   "execution_count": 25,
   "id": "81c73f89-de55-499c-a219-df53b8101927",
   "metadata": {},
   "outputs": [
    {
     "data": {
      "text/plain": [
       "10.0"
      ]
     },
     "execution_count": 25,
     "metadata": {},
     "output_type": "execute_result"
    }
   ],
   "source": [
    "area_triangle(5,4)"
   ]
  },
  {
   "cell_type": "code",
   "execution_count": 27,
   "id": "3c8c558d-6ad3-4ba5-893a-0062b7065da1",
   "metadata": {},
   "outputs": [
    {
     "data": {
      "text/plain": [
       "20.5"
      ]
     },
     "execution_count": 27,
     "metadata": {},
     "output_type": "execute_result"
    }
   ],
   "source": [
    "area_a = area_triangle(5,4)\n",
    "area_b = area_triangle(7,3)\n",
    "total_area = area_a +area_b\n",
    "total_area"
   ]
  },
  {
   "cell_type": "code",
   "execution_count": 49,
   "id": "68fc722d-bc6e-450e-9b69-bd5d4d602023",
   "metadata": {},
   "outputs": [],
   "source": [
    "def greeting(name):\n",
    "    return name + '1'"
   ]
  },
  {
   "cell_type": "code",
   "execution_count": 51,
   "id": "edaaef79-31ec-4c86-af5e-3fd187aa60cb",
   "metadata": {},
   "outputs": [
    {
     "data": {
      "text/plain": [
       "'sathvik1'"
      ]
     },
     "execution_count": 51,
     "metadata": {},
     "output_type": "execute_result"
    }
   ],
   "source": [
    "greeting('sathvik')"
   ]
  },
  {
   "cell_type": "code",
   "execution_count": 53,
   "id": "03a67190-4f1f-43d7-a125-9e6c69d9e898",
   "metadata": {},
   "outputs": [],
   "source": [
    "def greeting(name):\n",
    "    return name + 1"
   ]
  },
  {
   "cell_type": "code",
   "execution_count": 55,
   "id": "be4ff913-56ab-47bb-b63e-650f666e1cef",
   "metadata": {},
   "outputs": [
    {
     "data": {
      "text/plain": [
       "3"
      ]
     },
     "execution_count": 55,
     "metadata": {},
     "output_type": "execute_result"
    }
   ],
   "source": [
    "greeting(2)"
   ]
  },
  {
   "cell_type": "code",
   "execution_count": 61,
   "id": "715ad526-e183-4475-8a61-ada5491dbf57",
   "metadata": {},
   "outputs": [],
   "source": [
    "def seconds(hours,minutes,seconds):\n",
    "    total_seconds = 3600*hours + 60*minutes + seconds\n",
    "    return total_seconds"
   ]
  },
  {
   "cell_type": "code",
   "execution_count": 63,
   "id": "1def9a5f-03d7-40c1-bfe9-ee12d0248bea",
   "metadata": {},
   "outputs": [
    {
     "data": {
      "text/plain": [
       "4260"
      ]
     },
     "execution_count": 63,
     "metadata": {},
     "output_type": "execute_result"
    }
   ],
   "source": [
    "seconds(1,10,60)"
   ]
  },
  {
   "cell_type": "code",
   "execution_count": 77,
   "id": "fcacad7c-274e-4d75-916b-461103034306",
   "metadata": {},
   "outputs": [
    {
     "name": "stdout",
     "output_type": "stream",
     "text": [
      "Hello sathvik your lucky numnber is 63\n",
      "Hello Mindrikumar your lucky numnber is 99\n"
     ]
    }
   ],
   "source": [
    "name = \"sathvik\"\n",
    "number = len(name)*9\n",
    "\n",
    "print('Hello ' +name+ ' your lucky numnber is ' + str(number))\n",
    "\n",
    "name = \"Mindrikumar\"\n",
    "number = len(name)*9\n",
    "\n",
    "print('Hello ' +name+ ' your lucky numnber is ' + str(number))"
   ]
  },
  {
   "cell_type": "code",
   "execution_count": 83,
   "id": "b6f78d74-1b9d-42bd-bf6b-f6e36a7adbe8",
   "metadata": {},
   "outputs": [],
   "source": [
    "def lucky_number(name):\n",
    "    number = len(name)*9\n",
    "    print('Hello ' +name+ ' your lucky numnber is ' + str(number))\n"
   ]
  },
  {
   "cell_type": "code",
   "execution_count": 85,
   "id": "540a3b9c-a11a-457e-a8b8-799cc6222d71",
   "metadata": {},
   "outputs": [
    {
     "name": "stdout",
     "output_type": "stream",
     "text": [
      "Hello sathvik your lucky numnber is 63\n"
     ]
    }
   ],
   "source": [
    "lucky_number('sathvik')"
   ]
  },
  {
   "cell_type": "code",
   "execution_count": 93,
   "id": "d7c6fe4e-3158-448c-bae2-cf2b95e3dac8",
   "metadata": {},
   "outputs": [],
   "source": [
    "def seed_calculator(fountain_side, grass_width):\n",
    "    \"\"\"\n",
    "    Calculate number of kilograms of grass seed needed for\n",
    "    a border around a square fountain.\n",
    "\n",
    "        Parameters:\n",
    "            fountain_side (num): length of 1 side of fountain in meters\n",
    "            grass_width (num): width of grass border in meters\n",
    "\n",
    "        Returns:\n",
    "            seed (float): amount of seed (kg) needed for grass border\n",
    "    \"\"\"\n",
    "    # Area of fountain\n",
    "    fountain_area = fountain_side**2\n",
    "    # Total area\n",
    "    total_area = (fountain_side + 2 * grass_width)**2\n",
    "    # Area of grass border\n",
    "    grass_area = total_area - fountain_area\n",
    "    # Amount of seed needed (35 g/sq.m)\n",
    "    seed = grass_area * 35\n",
    "    # Convert to kg\n",
    "    seed = seed / 1000\n",
    "\n",
    "    return seed"
   ]
  },
  {
   "cell_type": "code",
   "execution_count": 95,
   "id": "171fbd43-9f34-4d93-b41d-1138cc70cac0",
   "metadata": {},
   "outputs": [
    {
     "data": {
      "text/plain": [
       "3.92"
      ]
     },
     "execution_count": 95,
     "metadata": {},
     "output_type": "execute_result"
    }
   ],
   "source": [
    "seed_calculator(12,2)"
   ]
  },
  {
   "cell_type": "code",
   "execution_count": 151,
   "id": "44bd1208-430a-4a08-b450-bf52dc8cb79c",
   "metadata": {},
   "outputs": [],
   "source": [
    "def valid_name(name):\n",
    "    if len(name)< 8:\n",
    "        print (' Not Valid name')\n",
    "    elif len(name)>15:\n",
    "        print (' Not Valid name')\n",
    "    else :\n",
    "        print('valid')"
   ]
  },
  {
   "cell_type": "code",
   "execution_count": 153,
   "id": "226af201-ee75-4aa9-94c8-7b8ce2798a54",
   "metadata": {},
   "outputs": [
    {
     "name": "stdout",
     "output_type": "stream",
     "text": [
      " Not Valid name\n"
     ]
    }
   ],
   "source": [
    "valid_name('sa')"
   ]
  },
  {
   "cell_type": "code",
   "execution_count": 159,
   "id": "fa488957-766e-4edd-99b5-04149373582a",
   "metadata": {},
   "outputs": [
    {
     "name": "stdout",
     "output_type": "stream",
     "text": [
      "valid\n"
     ]
    }
   ],
   "source": [
    "valid_name('Sathvikmn')"
   ]
  },
  {
   "cell_type": "code",
   "execution_count": 161,
   "id": "432a25b8-3a04-4812-b519-3cd7604e4ca6",
   "metadata": {},
   "outputs": [],
   "source": [
    "# Define a function named `total_sales`\n",
    "def total_sales():\n",
    "\n",
    "    # Return a value\n",
    "    return"
   ]
  },
  {
   "cell_type": "code",
   "execution_count": 163,
   "id": "9b916c48-6f5d-44f8-ab70-618aeeeb890b",
   "metadata": {},
   "outputs": [],
   "source": [
    "def total_sales(n):\n",
    "    sales = n*7.99\n",
    "\n",
    "    # Return a value\n",
    "    return sales"
   ]
  },
  {
   "cell_type": "code",
   "execution_count": 165,
   "id": "dafefbcc-1ed3-4b7f-aeb8-56137c5a78cd",
   "metadata": {},
   "outputs": [
    {
     "data": {
      "text/plain": [
       "471.41"
      ]
     },
     "execution_count": 165,
     "metadata": {},
     "output_type": "execute_result"
    }
   ],
   "source": [
    "total_sales(59)"
   ]
  },
  {
   "cell_type": "code",
   "execution_count": 167,
   "id": "3cf12bc1-d954-4826-b798-808f19f8421f",
   "metadata": {},
   "outputs": [],
   "source": [
    "def total_sales(n, price):\n",
    "    sales = n*price\n",
    "\n",
    "    # Return a value\n",
    "    return round(sales,2)"
   ]
  },
  {
   "cell_type": "code",
   "execution_count": 169,
   "id": "990aedc7-28da-4efa-9070-3d7988c94eb2",
   "metadata": {},
   "outputs": [
    {
     "data": {
      "text/plain": [
       "16005.99"
      ]
     },
     "execution_count": 169,
     "metadata": {},
     "output_type": "execute_result"
    }
   ],
   "source": [
    "total_sales(15.99, 1001)"
   ]
  },
  {
   "cell_type": "code",
   "execution_count": 171,
   "id": "37c9b6a0-5820-4a79-a96e-eafd6cf93d18",
   "metadata": {},
   "outputs": [],
   "source": [
    "def is_even(n):\n",
    "    if n %2 == 0:\n",
    "        return True\n",
    "    return False"
   ]
  },
  {
   "cell_type": "code",
   "execution_count": 173,
   "id": "4304212e-9ca7-4e31-bfcb-416952b1520d",
   "metadata": {},
   "outputs": [
    {
     "data": {
      "text/plain": [
       "False"
      ]
     },
     "execution_count": 173,
     "metadata": {},
     "output_type": "execute_result"
    }
   ],
   "source": [
    "is_even(9)"
   ]
  },
  {
   "cell_type": "code",
   "execution_count": 183,
   "id": "037145e4-8653-470a-91df-250908433e10",
   "metadata": {},
   "outputs": [],
   "source": [
    "def is_even(n):\n",
    "    if n %2 == 0:\n",
    "        return True\n",
    "    else: \n",
    "        return False"
   ]
  },
  {
   "cell_type": "code",
   "execution_count": 185,
   "id": "c3805a9e-dd8a-4852-b02e-d1e7d2f500b6",
   "metadata": {},
   "outputs": [
    {
     "data": {
      "text/plain": [
       "False"
      ]
     },
     "execution_count": 185,
     "metadata": {},
     "output_type": "execute_result"
    }
   ],
   "source": [
    "is_even(9)"
   ]
  },
  {
   "cell_type": "code",
   "execution_count": 1,
   "id": "d42a1e36-ab72-4df7-90a2-6f91c9e6de18",
   "metadata": {},
   "outputs": [],
   "source": [
    "##Loops"
   ]
  },
  {
   "cell_type": "code",
   "execution_count": 5,
   "id": "b6bce30b-ce46-45c3-956d-9d9ff6e11790",
   "metadata": {},
   "outputs": [
    {
     "name": "stdout",
     "output_type": "stream",
     "text": [
      "Not yet there, x=0\n",
      "x=1\n",
      "Not yet there, x=1\n",
      "x=2\n",
      "Not yet there, x=2\n",
      "x=3\n",
      "Not yet there, x=3\n",
      "x=4\n",
      "Not yet there, x=4\n",
      "x=5\n",
      "Not yet there, x=5\n",
      "x=6\n"
     ]
    }
   ],
   "source": [
    "x=0\n",
    "\n",
    "while x<6:\n",
    "    print('Not yet there, x=' + str(x))\n",
    "    x=x+1\n",
    "    print('x=' + str(x))"
   ]
  },
  {
   "cell_type": "code",
   "execution_count": 7,
   "id": "d6916159-7cee-4629-8329-edcc3dbba3dd",
   "metadata": {},
   "outputs": [],
   "source": [
    "#Guessing game"
   ]
  },
  {
   "cell_type": "code",
   "execution_count": 3,
   "id": "3885665d-0dcd-4706-a2b2-25c9197e1d48",
   "metadata": {},
   "outputs": [],
   "source": [
    "import random"
   ]
  },
  {
   "cell_type": "code",
   "execution_count": 5,
   "id": "fbe241dd-c520-450e-8b03-d84f304c97af",
   "metadata": {},
   "outputs": [],
   "source": [
    "number = random.randint(1,25)"
   ]
  },
  {
   "cell_type": "code",
   "execution_count": 7,
   "id": "0489c9d5-770a-4e58-8484-003bf06882ae",
   "metadata": {},
   "outputs": [],
   "source": [
    "number_of_guesses = 0"
   ]
  },
  {
   "cell_type": "code",
   "execution_count": 9,
   "id": "882e879a-2d3c-4a06-80d5-29d742105420",
   "metadata": {},
   "outputs": [
    {
     "name": "stdout",
     "output_type": "stream",
     "text": [
      "Guess a random number between 1 to 25: \n"
     ]
    },
    {
     "name": "stdin",
     "output_type": "stream",
     "text": [
      " 5\n"
     ]
    },
    {
     "name": "stdout",
     "output_type": "stream",
     "text": [
      "Nope, try again later.\n",
      "Guess a random number between 1 to 25: \n"
     ]
    },
    {
     "name": "stdin",
     "output_type": "stream",
     "text": [
      " 5\n"
     ]
    },
    {
     "name": "stdout",
     "output_type": "stream",
     "text": [
      "Nope, try again later.\n",
      "Guess a random number between 1 to 25: \n"
     ]
    },
    {
     "name": "stdin",
     "output_type": "stream",
     "text": [
      " 5\n"
     ]
    },
    {
     "name": "stdout",
     "output_type": "stream",
     "text": [
      "Nope, try again later.\n",
      "Guess a random number between 1 to 25: \n"
     ]
    },
    {
     "name": "stdin",
     "output_type": "stream",
     "text": [
      " 5\n"
     ]
    },
    {
     "name": "stdout",
     "output_type": "stream",
     "text": [
      "Nope, try again later.\n",
      "Guess a random number between 1 to 25: \n"
     ]
    },
    {
     "name": "stdin",
     "output_type": "stream",
     "text": [
      " 5\n"
     ]
    },
    {
     "name": "stdout",
     "output_type": "stream",
     "text": [
      "you did not guess the right number, the number was 20\n"
     ]
    }
   ],
   "source": [
    "while number_of_guesses<5:\n",
    "    print('Guess a random number between 1 to 25: ')\n",
    "    guess = input()\n",
    "    guess = int(guess)\n",
    "    number_of_guesses += 1\n",
    "\n",
    "    if guess == number:\n",
    "        break\n",
    "    elif number_of_guesses == 5:\n",
    "        break\n",
    "    else:\n",
    "        print('Nope, try again later.')\n",
    "\n",
    "\n",
    "if guess == number:\n",
    "    print('correct, you guessed the number in ' + str(number_of_guesses) + 'tries!')\n",
    "else:\n",
    "    print('you did not guess the right number, the number was '+ str(number))"
   ]
  },
  {
   "cell_type": "code",
   "execution_count": 19,
   "id": "6c4863a5-1ff5-4e9a-a1ae-1ff6084f9aa2",
   "metadata": {},
   "outputs": [
    {
     "name": "stdout",
     "output_type": "stream",
     "text": [
      "1,25 ke beech mai number chun madarchod\n"
     ]
    },
    {
     "name": "stdin",
     "output_type": "stream",
     "text": [
      " 55\n"
     ]
    },
    {
     "name": "stdout",
     "output_type": "stream",
     "text": [
      "Maa chudhgayi\n",
      "1,25 ke beech mai number chun madarchod\n"
     ]
    },
    {
     "name": "stdin",
     "output_type": "stream",
     "text": [
      " 5\n"
     ]
    },
    {
     "name": "stdout",
     "output_type": "stream",
     "text": [
      "Maa chudhgayi\n",
      "1,25 ke beech mai number chun madarchod\n"
     ]
    },
    {
     "name": "stdin",
     "output_type": "stream",
     "text": [
      " 5\n"
     ]
    },
    {
     "name": "stdout",
     "output_type": "stream",
     "text": [
      "Maa chudhgayi\n",
      "1,25 ke beech mai number chun madarchod\n"
     ]
    },
    {
     "name": "stdin",
     "output_type": "stream",
     "text": [
      " 5\n"
     ]
    },
    {
     "name": "stdout",
     "output_type": "stream",
     "text": [
      "Maa chudhgayi\n",
      "1,25 ke beech mai number chun madarchod\n"
     ]
    },
    {
     "name": "stdin",
     "output_type": "stream",
     "text": [
      " 5\n"
     ]
    },
    {
     "name": "stdout",
     "output_type": "stream",
     "text": [
      "Gaand maraa. 4 number tha \n"
     ]
    }
   ],
   "source": [
    "import random\n",
    "\n",
    "number = random.randint(1,25)\n",
    "number_of_guess = 0\n",
    "\n",
    "while number_of_guess < 5:\n",
    "    print( '1,25 ke beech mai number chun madarchod')\n",
    "    bol_na_madarchod = input()\n",
    "    bol_na_madarchod = int(bol_na_madarchod)\n",
    "    number_of_guess += 1\n",
    "\n",
    "    if bol_na_madarchod ==  number:\n",
    "        break\n",
    "    elif number_of_guess == 5:\n",
    "        break\n",
    "    else:\n",
    "        print('Maa chudhgayi')\n",
    "\n",
    "if bol_na_madarchod == number:\n",
    "    print('7 carore, you guessed in ' + str(number_of_guess) + 'tries!')\n",
    "else:\n",
    "    print('Gaand maraa. ' + str(number) + ' number tha ')"
   ]
  },
  {
   "cell_type": "code",
   "execution_count": 23,
   "id": "97286325-d1e2-4cb7-8bc3-16c1866e369c",
   "metadata": {},
   "outputs": [
    {
     "name": "stdout",
     "output_type": "stream",
     "text": [
      "0 1\n",
      "1 2\n",
      "2 4\n",
      "3 8\n",
      "4 16\n"
     ]
    }
   ],
   "source": [
    "x = 1\n",
    "i = 0\n",
    "while x < 100:\n",
    "   if i == 5:\n",
    "       break\n",
    "   print(i, x)\n",
    "   x = x*2\n",
    "   i += 1"
   ]
  },
  {
   "cell_type": "code",
   "execution_count": 25,
   "id": "bf497a06-9efe-45b2-bdaf-c3c7f03af50a",
   "metadata": {},
   "outputs": [
    {
     "name": "stdout",
     "output_type": "stream",
     "text": [
      "candy purchased: 0\n",
      "candy purchased: 1\n",
      "candy purchased: 2\n",
      "candy purchased: 3\n",
      "candy purchased: 4\n",
      "candy purchased: 5\n"
     ]
    }
   ],
   "source": [
    "### YOUR CODE HERE ###\n",
    "candy_purchased = 0\n",
    "\n",
    "while candy_purchased <6:\n",
    "    print('candy purchased: ' + str(candy_purchased))\n",
    "    candy_purchased +=1"
   ]
  },
  {
   "cell_type": "code",
   "execution_count": 27,
   "id": "12877600-d63c-43d9-91a7-4392d972b1a6",
   "metadata": {},
   "outputs": [
    {
     "name": "stdout",
     "output_type": "stream",
     "text": [
      "candy purchased: 0\n",
      "candy purchased: 10\n",
      "candy purchased: 20\n",
      "candy purchased: 30\n",
      "candy purchased: 40\n",
      "candy purchased: 50\n",
      "candy purchased: 60\n",
      "candy purchased: 70\n",
      "candy purchased: 80\n",
      "candy purchased: 90\n",
      "candy purchased: 100\n"
     ]
    }
   ],
   "source": [
    "### YOUR CODE HERE ###\n",
    "candy_purchased = 0\n",
    "\n",
    "while candy_purchased <101:\n",
    "    if candy_purchased % 10 ==0:\n",
    "        print('candy purchased: ' + str(candy_purchased))\n",
    "    candy_purchased +=1"
   ]
  },
  {
   "cell_type": "code",
   "execution_count": 31,
   "id": "49d266b9-6c77-4bbc-99ac-b6bb0e11b722",
   "metadata": {},
   "outputs": [
    {
     "name": "stdout",
     "output_type": "stream",
     "text": [
      "362880\n"
     ]
    }
   ],
   "source": [
    "product =1\n",
    "\n",
    "for n in range(1,10):\n",
    "    product = product*n\n",
    "\n",
    "print(product)"
   ]
  },
  {
   "cell_type": "code",
   "execution_count": 33,
   "id": "68ea2bdd-2f78-4d48-9732-93af0d490be2",
   "metadata": {},
   "outputs": [],
   "source": [
    "def to_celsius(x):\n",
    "    return (x-32) * 5/9"
   ]
  },
  {
   "cell_type": "code",
   "execution_count": 35,
   "id": "c7cad1cd-2820-4772-a8ca-bb648f9f65f7",
   "metadata": {},
   "outputs": [
    {
     "data": {
      "text/plain": [
       "10.0"
      ]
     },
     "execution_count": 35,
     "metadata": {},
     "output_type": "execute_result"
    }
   ],
   "source": [
    "to_celsius(50)"
   ]
  },
  {
   "cell_type": "code",
   "execution_count": 41,
   "id": "007f98fd-72e1-4500-a70b-b95700e5410c",
   "metadata": {},
   "outputs": [
    {
     "data": {
      "text/plain": [
       "-33.333333333333336"
      ]
     },
     "execution_count": 41,
     "metadata": {},
     "output_type": "execute_result"
    }
   ],
   "source": [
    "to_celsius(-28)"
   ]
  },
  {
   "cell_type": "code",
   "execution_count": 51,
   "id": "920fff3c-f7b7-42dd-9a14-11123b601922",
   "metadata": {},
   "outputs": [
    {
     "name": "stdout",
     "output_type": "stream",
     "text": [
      "1 -17.22222222222222\n",
      "11 -11.666666666666666\n",
      "21 -6.111111111111111\n",
      "31 -0.5555555555555556\n",
      "41 5.0\n",
      "51 10.555555555555555\n",
      "61 16.11111111111111\n",
      "71 21.666666666666668\n",
      "81 27.22222222222222\n",
      "91 32.77777777777778\n"
     ]
    }
   ],
   "source": [
    "for x in range(1, 101, 10):\n",
    "    print(x, to_celsius(x))"
   ]
  },
  {
   "cell_type": "code",
   "execution_count": 1,
   "id": "cb7db75c-f875-469d-917b-308c2fcc8ffb",
   "metadata": {},
   "outputs": [
    {
     "data": {
      "text/plain": [
       "'cats and dogs'"
      ]
     },
     "execution_count": 1,
     "metadata": {},
     "output_type": "execute_result"
    }
   ],
   "source": [
    "pets= 'cats and dogs'\n",
    "pets\n"
   ]
  },
  {
   "cell_type": "code",
   "execution_count": 7,
   "id": "0af9abab-c870-4821-8dd8-712beaf78597",
   "metadata": {},
   "outputs": [
    {
     "data": {
      "text/plain": [
       "6"
      ]
     },
     "execution_count": 7,
     "metadata": {},
     "output_type": "execute_result"
    }
   ],
   "source": [
    "pets.index('n')"
   ]
  },
  {
   "cell_type": "code",
   "execution_count": 9,
   "id": "d2febd76-5ef9-4f6e-b414-381dfdf6fbdb",
   "metadata": {},
   "outputs": [
    {
     "data": {
      "text/plain": [
       "3"
      ]
     },
     "execution_count": 9,
     "metadata": {},
     "output_type": "execute_result"
    }
   ],
   "source": [
    "pets.index('s')"
   ]
  },
  {
   "cell_type": "code",
   "execution_count": 11,
   "id": "6083a1b4-749a-4c70-afb2-237bb65bfbe2",
   "metadata": {},
   "outputs": [
    {
     "data": {
      "text/plain": [
       "'n'"
      ]
     },
     "execution_count": 11,
     "metadata": {},
     "output_type": "execute_result"
    }
   ],
   "source": [
    "pets[6]"
   ]
  },
  {
   "cell_type": "code",
   "execution_count": 13,
   "id": "c2c68c05-480e-4336-a50c-8944bde648c4",
   "metadata": {},
   "outputs": [
    {
     "data": {
      "text/plain": [
       "'s'"
      ]
     },
     "execution_count": 13,
     "metadata": {},
     "output_type": "execute_result"
    }
   ],
   "source": [
    "pets[-1]"
   ]
  },
  {
   "cell_type": "code",
   "execution_count": 15,
   "id": "9e3e2971-5112-4a20-b367-223c9aec8b3f",
   "metadata": {},
   "outputs": [
    {
     "data": {
      "text/plain": [
       "'g'"
      ]
     },
     "execution_count": 15,
     "metadata": {},
     "output_type": "execute_result"
    }
   ],
   "source": [
    "pets[-2]"
   ]
  },
  {
   "cell_type": "code",
   "execution_count": 17,
   "id": "fd091622-ba68-4e6f-a006-c9af52c2149a",
   "metadata": {},
   "outputs": [
    {
     "data": {
      "text/plain": [
       "'ats'"
      ]
     },
     "execution_count": 17,
     "metadata": {},
     "output_type": "execute_result"
    }
   ],
   "source": [
    "pets[1:4]"
   ]
  },
  {
   "cell_type": "code",
   "execution_count": 19,
   "id": "472e7c66-6fd9-4aef-95f2-b2ec93d0b713",
   "metadata": {},
   "outputs": [
    {
     "data": {
      "text/plain": [
       "'cats'"
      ]
     },
     "execution_count": 19,
     "metadata": {},
     "output_type": "execute_result"
    }
   ],
   "source": [
    "pets[:4]"
   ]
  },
  {
   "cell_type": "code",
   "execution_count": 21,
   "id": "80b09fd2-4b56-4dc5-a47f-9663ff0f86dd",
   "metadata": {},
   "outputs": [
    {
     "data": {
      "text/plain": [
       "' and dogs'"
      ]
     },
     "execution_count": 21,
     "metadata": {},
     "output_type": "execute_result"
    }
   ],
   "source": [
    "pets[4:]"
   ]
  },
  {
   "cell_type": "code",
   "execution_count": 25,
   "id": "92a99c19-88a4-4640-850d-9b5c8c457113",
   "metadata": {},
   "outputs": [
    {
     "data": {
      "text/plain": [
       "False"
      ]
     },
     "execution_count": 25,
     "metadata": {},
     "output_type": "execute_result"
    }
   ],
   "source": [
    "'sheep' in pets"
   ]
  },
  {
   "cell_type": "code",
   "execution_count": 29,
   "id": "b925c488-840a-4b7d-8b4a-060b6d4a54cb",
   "metadata": {},
   "outputs": [
    {
     "data": {
      "text/plain": [
       "True"
      ]
     },
     "execution_count": 29,
     "metadata": {},
     "output_type": "execute_result"
    }
   ],
   "source": [
    "'cats' in pets"
   ]
  },
  {
   "cell_type": "code",
   "execution_count": 31,
   "id": "ffa77611-69cd-4a12-83b0-0697a0b8aed7",
   "metadata": {},
   "outputs": [
    {
     "data": {
      "text/plain": [
       "True"
      ]
     },
     "execution_count": 31,
     "metadata": {},
     "output_type": "execute_result"
    }
   ],
   "source": [
    "'cat'in pets"
   ]
  },
  {
   "cell_type": "code",
   "execution_count": 33,
   "id": "bca9f016-9c9c-4952-82df-83e5a1f55d55",
   "metadata": {},
   "outputs": [
    {
     "name": "stdout",
     "output_type": "stream",
     "text": [
      "unladen\n",
      "swallow\n"
     ]
    }
   ],
   "source": [
    "#list indexing\n",
    "my_list = [1, 'unladen', 'swallow']\n",
    "print(my_list[1])\n",
    "\n",
    "print(my_list[-1])"
   ]
  },
  {
   "cell_type": "code",
   "execution_count": 35,
   "id": "f1811b9f-e2da-4bb6-ba12-f3117321a38b",
   "metadata": {},
   "outputs": [
    {
     "name": "stdout",
     "output_type": "stream",
     "text": [
      "unladen\n",
      "swallow\n"
     ]
    }
   ],
   "source": [
    "my_list = (1, 'unladen', 'swallow')\n",
    "print(my_list[1])\n",
    "\n",
    "print(my_list[-1])"
   ]
  },
  {
   "cell_type": "code",
   "execution_count": 39,
   "id": "9f8a5665-70f1-47b5-b4a6-f288367bae09",
   "metadata": {},
   "outputs": [
    {
     "name": "stdout",
     "output_type": "stream",
     "text": [
      "hello sathvik, your token number is 3\n"
     ]
    }
   ],
   "source": [
    "name = 'sathvik'\n",
    "number = 3\n",
    "print('hello {}, your token number is {}'.format(name,number))"
   ]
  },
  {
   "cell_type": "code",
   "execution_count": 41,
   "id": "9f9ad300-f94b-4e95-a748-9a46f6cc9908",
   "metadata": {},
   "outputs": [
    {
     "name": "stdout",
     "output_type": "stream",
     "text": [
      "hello sathvik, your token number is 3\n"
     ]
    }
   ],
   "source": [
    "name = 'sathvik'\n",
    "number = 3\n",
    "print('hello {name}, your token number is {num}'.format(name=name,num=number))"
   ]
  },
  {
   "cell_type": "code",
   "execution_count": 45,
   "id": "2e316509-a56b-4786-be42-944ff0e46ba8",
   "metadata": {},
   "outputs": [
    {
     "name": "stdout",
     "output_type": "stream",
     "text": [
      "hello 3, your token number is sathvik\n"
     ]
    }
   ],
   "source": [
    "name = 'sathvik'\n",
    "number = 3\n",
    "print('hello {1}, your token number is {0}'.format(name,number))"
   ]
  },
  {
   "cell_type": "code",
   "execution_count": 1,
   "id": "6764fb30-8d15-4c3e-af9c-ed374e51d8f8",
   "metadata": {},
   "outputs": [],
   "source": [
    "#Tuples\n",
    "\n",
    "fullname = ('Sathvik', 'R', 'Reddy'\n",
    "           )\n"
   ]
  },
  {
   "cell_type": "code",
   "execution_count": 3,
   "id": "d68ded56-5648-41ac-8a72-e8485f3e2644",
   "metadata": {},
   "outputs": [
    {
     "data": {
      "text/plain": [
       "('Sathvik', 'R', 'Reddy')"
      ]
     },
     "execution_count": 3,
     "metadata": {},
     "output_type": "execute_result"
    }
   ],
   "source": [
    "fullname"
   ]
  },
  {
   "cell_type": "code",
   "execution_count": 5,
   "id": "c03ce1b2-d0d7-40c5-af07-8ec37dbbaabf",
   "metadata": {},
   "outputs": [
    {
     "data": {
      "text/plain": [
       "'Reddy'"
      ]
     },
     "execution_count": 5,
     "metadata": {},
     "output_type": "execute_result"
    }
   ],
   "source": [
    "fullname[2]"
   ]
  },
  {
   "cell_type": "code",
   "execution_count": 17,
   "id": "6d93c9f6-28c2-49a1-bd5c-55916b7aa77d",
   "metadata": {},
   "outputs": [
    {
     "data": {
      "text/plain": [
       "('Sathvik', 'R', 'Reddy', 'Sri')"
      ]
     },
     "execution_count": 17,
     "metadata": {},
     "output_type": "execute_result"
    }
   ],
   "source": [
    "fullname = fullname + ('Sri',)\n",
    "fullname"
   ]
  },
  {
   "cell_type": "code",
   "execution_count": 19,
   "id": "b0aadd1c-86f4-470c-a243-7a7bf6b72225",
   "metadata": {},
   "outputs": [
    {
     "name": "stdout",
     "output_type": "stream",
     "text": [
      "rocks\n",
      "['r', 'o', 'c', 'k', 's']\n",
      "['stones', ' water', 'paper']\n"
     ]
    }
   ],
   "source": [
    "#list\n",
    "print('rocks')\n",
    "print(list('rocks'))\n",
    "print(list(('stones', ' water', 'paper')))"
   ]
  },
  {
   "cell_type": "code",
   "execution_count": 21,
   "id": "e27e6ed2-662a-454b-b410-88b0333ca6f4",
   "metadata": {},
   "outputs": [],
   "source": [
    "my_list = [1, 2, 1, 2, 'And through', ['and', 'through']]"
   ]
  },
  {
   "cell_type": "code",
   "execution_count": 23,
   "id": "599f5494-dc34-4e1c-a893-e9dbb6d071ee",
   "metadata": {},
   "outputs": [
    {
     "data": {
      "text/plain": [
       "[1, 2, 1, 2, 'And through', ['and', 'through']]"
      ]
     },
     "execution_count": 23,
     "metadata": {},
     "output_type": "execute_result"
    }
   ],
   "source": [
    "my_list"
   ]
  },
  {
   "cell_type": "code",
   "execution_count": 25,
   "id": "c36f9c56-12d7-42fc-814b-e54e76e67a44",
   "metadata": {},
   "outputs": [
    {
     "name": "stdout",
     "output_type": "stream",
     "text": [
      "[5446, 2, 3]\n"
     ]
    }
   ],
   "source": [
    "num_list = [1, 2, 3]\n",
    "num_list[0] = 5446\n",
    "print(num_list)"
   ]
  },
  {
   "cell_type": "code",
   "execution_count": 27,
   "id": "b8a6318c-302c-4339-a10f-6f9dfa35789b",
   "metadata": {},
   "outputs": [],
   "source": [
    "# Create a list of tuples, each representing the name, age, and position of a\n",
    "# player on a basketball team.\n",
    "team = [('Marta', 20, 'center'),\n",
    "        ('Ana', 22, 'point guard'),\n",
    "        ('Gabi', 22, 'shooting guard'),\n",
    "        ('Luz', 21, 'power forward'),\n",
    "        ('Lorena', 19, 'small forward'),\n",
    "        ]"
   ]
  },
  {
   "cell_type": "code",
   "execution_count": 39,
   "id": "3caf2eaf-3188-4f62-bb4f-dc7cdcd7b20b",
   "metadata": {},
   "outputs": [],
   "source": [
    "def player_position(players):\n",
    "    result =  []\n",
    "    for name, age, position in players:\n",
    "        result.append('Name: {} \\nPosition: {}\\n'.format(name,position))\n",
    "\n",
    "    return result"
   ]
  },
  {
   "cell_type": "code",
   "execution_count": 41,
   "id": "d9aa4ddb-1b78-41e1-ae9d-9eff50847901",
   "metadata": {},
   "outputs": [
    {
     "name": "stdout",
     "output_type": "stream",
     "text": [
      "Name: Marta \n",
      "Position: center\n",
      "\n",
      "Name: Ana \n",
      "Position: point guard\n",
      "\n",
      "Name: Gabi \n",
      "Position: shooting guard\n",
      "\n",
      "Name: Luz \n",
      "Position: power forward\n",
      "\n",
      "Name: Lorena \n",
      "Position: small forward\n",
      "\n"
     ]
    }
   ],
   "source": [
    "#call fun in for loop\n",
    "for player in player_position(team):\n",
    "    print(player)"
   ]
  },
  {
   "cell_type": "code",
   "execution_count": 43,
   "id": "a2b3d0c6-8d33-4718-ab2b-a74189e8497b",
   "metadata": {},
   "outputs": [
    {
     "data": {
      "text/plain": [
       "['Name: Marta \\nPosition: center\\n',\n",
       " 'Name: Ana \\nPosition: point guard\\n',\n",
       " 'Name: Gabi \\nPosition: shooting guard\\n',\n",
       " 'Name: Luz \\nPosition: power forward\\n',\n",
       " 'Name: Lorena \\nPosition: small forward\\n']"
      ]
     },
     "execution_count": 43,
     "metadata": {},
     "output_type": "execute_result"
    }
   ],
   "source": [
    "player_position(team)"
   ]
  },
  {
   "cell_type": "code",
   "execution_count": 1,
   "id": "40a2515b-ed86-44b5-8168-05985e7c54d7",
   "metadata": {},
   "outputs": [],
   "source": [
    "#Dictionaries"
   ]
  },
  {
   "cell_type": "code",
   "execution_count": 3,
   "id": "2996a304-948a-4e04-941b-1a304f83db6e",
   "metadata": {},
   "outputs": [],
   "source": [
    "team = [\n",
    "    ('Marta', 20, 'center'),\n",
    "    ('Ana', 22, 'point guard'),\n",
    "    ('Gabi', 22, 'shooting guard'),\n",
    "    ('Luz', 21, 'power forward'),\n",
    "    ('Lorena', 19, 'small forward'),\n",
    "    ('Sandra', 19, 'center'),\n",
    "    ('Mari', 18, 'point guard'),\n",
    "    ('Esme', 18, 'shooting guard'),\n",
    "    ('Lin', 18, 'power forward'),\n",
    "    ('Sol', 19, 'small forward'),\n",
    "    ]"
   ]
  },
  {
   "cell_type": "code",
   "execution_count": 5,
   "id": "86b69dcb-b5d8-4320-8190-20b79ac3c2e9",
   "metadata": {},
   "outputs": [
    {
     "data": {
      "text/plain": [
       "[('Marta', 20, 'center'),\n",
       " ('Ana', 22, 'point guard'),\n",
       " ('Gabi', 22, 'shooting guard'),\n",
       " ('Luz', 21, 'power forward'),\n",
       " ('Lorena', 19, 'small forward'),\n",
       " ('Sandra', 19, 'center'),\n",
       " ('Mari', 18, 'point guard'),\n",
       " ('Esme', 18, 'shooting guard'),\n",
       " ('Lin', 18, 'power forward'),\n",
       " ('Sol', 19, 'small forward')]"
      ]
     },
     "execution_count": 5,
     "metadata": {},
     "output_type": "execute_result"
    }
   ],
   "source": [
    "team"
   ]
  },
  {
   "cell_type": "code",
   "execution_count": 11,
   "id": "b1e7fe4d-56f1-426c-95a0-78280b1a13f7",
   "metadata": {},
   "outputs": [
    {
     "data": {
      "text/plain": [
       "{'center': [('Marta', 20), ('Sandra', 19)],\n",
       " 'point guard': [('Ana', 22), ('Mari', 18)],\n",
       " 'shooting guard': [('Gabi', 22), ('Esme', 18)],\n",
       " 'power forward': [('Luz', 21), ('Lin', 18)],\n",
       " 'small forward': [('Lorena', 19), ('Sol', 19)]}"
      ]
     },
     "execution_count": 11,
     "metadata": {},
     "output_type": "execute_result"
    }
   ],
   "source": [
    "new_team = {}\n",
    "for name, age, position in team:\n",
    "    if position in new_team:\n",
    "        new_team[position].append((name, age))\n",
    "    else:\n",
    "        new_team[position] = [(name, age)]\n",
    "\n",
    "new_team"
   ]
  },
  {
   "cell_type": "code",
   "execution_count": 13,
   "id": "63b5e0f9-122c-4c84-be9a-c9dcd76d2632",
   "metadata": {},
   "outputs": [
    {
     "data": {
      "text/plain": [
       "[('Ana', 22), ('Mari', 18)]"
      ]
     },
     "execution_count": 13,
     "metadata": {},
     "output_type": "execute_result"
    }
   ],
   "source": [
    "new_team['point guard']"
   ]
  },
  {
   "cell_type": "code",
   "execution_count": 15,
   "id": "0607b01c-c535-495b-aa4e-d2a40156da2a",
   "metadata": {},
   "outputs": [
    {
     "name": "stdout",
     "output_type": "stream",
     "text": [
      "center\n",
      "point guard\n",
      "shooting guard\n",
      "power forward\n",
      "small forward\n"
     ]
    }
   ],
   "source": [
    "for x in new_team:\n",
    "    print(x)"
   ]
  },
  {
   "cell_type": "code",
   "execution_count": 17,
   "id": "b6449461-220a-4a69-b8b7-7b54f2c85285",
   "metadata": {},
   "outputs": [
    {
     "data": {
      "text/plain": [
       "dict_keys(['center', 'point guard', 'shooting guard', 'power forward', 'small forward'])"
      ]
     },
     "execution_count": 17,
     "metadata": {},
     "output_type": "execute_result"
    }
   ],
   "source": [
    "new_team.keys()"
   ]
  },
  {
   "cell_type": "code",
   "execution_count": 19,
   "id": "06b20c22-0820-4942-993a-0bf4522ac7d8",
   "metadata": {},
   "outputs": [
    {
     "data": {
      "text/plain": [
       "dict_values([[('Marta', 20), ('Sandra', 19)], [('Ana', 22), ('Mari', 18)], [('Gabi', 22), ('Esme', 18)], [('Luz', 21), ('Lin', 18)], [('Lorena', 19), ('Sol', 19)]])"
      ]
     },
     "execution_count": 19,
     "metadata": {},
     "output_type": "execute_result"
    }
   ],
   "source": [
    "new_team.values()"
   ]
  },
  {
   "cell_type": "code",
   "execution_count": 21,
   "id": "c611f9df-5a30-4be4-9de5-1f09ced1e984",
   "metadata": {},
   "outputs": [
    {
     "data": {
      "text/plain": [
       "dict_items([('center', [('Marta', 20), ('Sandra', 19)]), ('point guard', [('Ana', 22), ('Mari', 18)]), ('shooting guard', [('Gabi', 22), ('Esme', 18)]), ('power forward', [('Luz', 21), ('Lin', 18)]), ('small forward', [('Lorena', 19), ('Sol', 19)])])"
      ]
     },
     "execution_count": 21,
     "metadata": {},
     "output_type": "execute_result"
    }
   ],
   "source": [
    "new_team.items()"
   ]
  },
  {
   "cell_type": "code",
   "execution_count": 25,
   "id": "e3b4eae9-feac-4b2c-b184-e5b517bf61be",
   "metadata": {},
   "outputs": [
    {
     "name": "stdout",
     "output_type": "stream",
     "text": [
      "center [('Marta', 20), ('Sandra', 19)]\n",
      "point guard [('Ana', 22), ('Mari', 18)]\n",
      "shooting guard [('Gabi', 22), ('Esme', 18)]\n",
      "power forward [('Luz', 21), ('Lin', 18)]\n",
      "small forward [('Lorena', 19), ('Sol', 19)]\n"
     ]
    }
   ],
   "source": [
    "for a,b in new_team.items():\n",
    "    print(a,b)"
   ]
  },
  {
   "cell_type": "code",
   "execution_count": 27,
   "id": "eb9d5f9d-0712-488c-8579-d13958a13413",
   "metadata": {},
   "outputs": [],
   "source": [
    "#Sets"
   ]
  },
  {
   "cell_type": "code",
   "execution_count": 35,
   "id": "fac63f47-a244-4a5a-9596-a21641221fde",
   "metadata": {},
   "outputs": [
    {
     "name": "stdout",
     "output_type": "stream",
     "text": [
      "{'baz', 'bar', 'foo'}\n"
     ]
    }
   ],
   "source": [
    "x = set(['foo', 'bar', 'baz', 'foo'])\n",
    "print(x)"
   ]
  },
  {
   "cell_type": "code",
   "execution_count": 37,
   "id": "8bcfe6a1-59d7-41f0-b2a7-e913056e9bbe",
   "metadata": {},
   "outputs": [
    {
     "name": "stdout",
     "output_type": "stream",
     "text": [
      "{'baz', 'bar', 'foo'}\n"
     ]
    }
   ],
   "source": [
    "x = set(('foo', 'bar', 'baz', 'foo'))\n",
    "print(x)"
   ]
  },
  {
   "cell_type": "code",
   "execution_count": 39,
   "id": "717a9975-dc66-4a8f-b749-d3ab695be9b3",
   "metadata": {},
   "outputs": [
    {
     "data": {
      "text/plain": [
       "{'f', 'o'}"
      ]
     },
     "execution_count": 39,
     "metadata": {},
     "output_type": "execute_result"
    }
   ],
   "source": [
    "x = set ('foo')\n",
    "x"
   ]
  },
  {
   "cell_type": "code",
   "execution_count": 41,
   "id": "119c71d9-a9cb-4e7e-9b02-c22c81bf145c",
   "metadata": {},
   "outputs": [
    {
     "data": {
      "text/plain": [
       "{'foo'}"
      ]
     },
     "execution_count": 41,
     "metadata": {},
     "output_type": "execute_result"
    }
   ],
   "source": [
    "x = {'foo'}\n",
    "x"
   ]
  },
  {
   "cell_type": "code",
   "execution_count": 43,
   "id": "b010f8ab-5d84-4432-852f-6525bde28d4b",
   "metadata": {},
   "outputs": [
    {
     "name": "stdout",
     "output_type": "stream",
     "text": [
      "{1, 2, 3, 4, 5, 6}\n"
     ]
    }
   ],
   "source": [
    "set1 = {1, 2, 3, 4, 5, 6}\n",
    "set2 = {4, 5, 6, 7, 8, 9}\n",
    "print(set1)"
   ]
  },
  {
   "cell_type": "code",
   "execution_count": 45,
   "id": "804c5131-7b35-407f-8101-1f04349cdf08",
   "metadata": {},
   "outputs": [
    {
     "name": "stdout",
     "output_type": "stream",
     "text": [
      "{4, 5, 6}\n"
     ]
    }
   ],
   "source": [
    "print(set1.intersection(set2))"
   ]
  },
  {
   "cell_type": "code",
   "execution_count": 53,
   "id": "f6ed6011-b171-441f-9cfa-35009b1f3762",
   "metadata": {},
   "outputs": [
    {
     "name": "stdout",
     "output_type": "stream",
     "text": [
      "{'quux', 'qux', 'baz', 'bar', 'foo'}\n",
      "{'quux', 'qux', 'baz', 'bar', 'foo'}\n"
     ]
    }
   ],
   "source": [
    "x1 = {'foo', 'bar', 'baz'}\n",
    "x2 = {'baz', 'qux', 'quux'}\n",
    "print(x1.union(x2))\n",
    "print(x1 | x2)"
   ]
  },
  {
   "cell_type": "code",
   "execution_count": 9,
   "id": "77f3c90d-481b-4ab8-aea2-5d621774ac08",
   "metadata": {},
   "outputs": [],
   "source": [
    "import pandas as pd\n",
    "import numpy as np"
   ]
  },
  {
   "cell_type": "code",
   "execution_count": 21,
   "id": "e4231231-89c8-42fb-bb0e-c894189a5aa0",
   "metadata": {},
   "outputs": [
    {
     "data": {
      "text/html": [
       "<div>\n",
       "<style scoped>\n",
       "    .dataframe tbody tr th:only-of-type {\n",
       "        vertical-align: middle;\n",
       "    }\n",
       "\n",
       "    .dataframe tbody tr th {\n",
       "        vertical-align: top;\n",
       "    }\n",
       "\n",
       "    .dataframe thead th {\n",
       "        text-align: right;\n",
       "    }\n",
       "</style>\n",
       "<table border=\"1\" class=\"dataframe\">\n",
       "  <thead>\n",
       "    <tr style=\"text-align: right;\">\n",
       "      <th></th>\n",
       "      <th>a</th>\n",
       "    </tr>\n",
       "  </thead>\n",
       "  <tbody>\n",
       "    <tr>\n",
       "      <th>0</th>\n",
       "      <td>1</td>\n",
       "    </tr>\n",
       "    <tr>\n",
       "      <th>1</th>\n",
       "      <td>2</td>\n",
       "    </tr>\n",
       "    <tr>\n",
       "      <th>2</th>\n",
       "      <td>3</td>\n",
       "    </tr>\n",
       "  </tbody>\n",
       "</table>\n",
       "</div>"
      ],
      "text/plain": [
       "   a\n",
       "0  1\n",
       "1  2\n",
       "2  3"
      ]
     },
     "execution_count": 21,
     "metadata": {},
     "output_type": "execute_result"
    }
   ],
   "source": [
    "#Dataframe\n",
    "\n",
    "df = pd.DataFrame(np.array([1,2,3]),\n",
    "                  columns = ['a'])\n",
    "df"
   ]
  },
  {
   "cell_type": "code",
   "execution_count": 25,
   "id": "e1c4fa34-8099-400f-b379-f80bc9bb1ea9",
   "metadata": {},
   "outputs": [
    {
     "data": {
      "text/html": [
       "<div>\n",
       "<style scoped>\n",
       "    .dataframe tbody tr th:only-of-type {\n",
       "        vertical-align: middle;\n",
       "    }\n",
       "\n",
       "    .dataframe tbody tr th {\n",
       "        vertical-align: top;\n",
       "    }\n",
       "\n",
       "    .dataframe thead th {\n",
       "        text-align: right;\n",
       "    }\n",
       "</style>\n",
       "<table border=\"1\" class=\"dataframe\">\n",
       "  <thead>\n",
       "    <tr style=\"text-align: right;\">\n",
       "      <th></th>\n",
       "      <th>a</th>\n",
       "      <th>b</th>\n",
       "      <th>c</th>\n",
       "    </tr>\n",
       "  </thead>\n",
       "  <tbody>\n",
       "    <tr>\n",
       "      <th>ab</th>\n",
       "      <td>1</td>\n",
       "      <td>2</td>\n",
       "      <td>3</td>\n",
       "    </tr>\n",
       "    <tr>\n",
       "      <th>ra</th>\n",
       "      <td>4</td>\n",
       "      <td>5</td>\n",
       "      <td>6</td>\n",
       "    </tr>\n",
       "    <tr>\n",
       "      <th>ca</th>\n",
       "      <td>7</td>\n",
       "      <td>8</td>\n",
       "      <td>9</td>\n",
       "    </tr>\n",
       "  </tbody>\n",
       "</table>\n",
       "</div>"
      ],
      "text/plain": [
       "    a  b  c\n",
       "ab  1  2  3\n",
       "ra  4  5  6\n",
       "ca  7  8  9"
      ]
     },
     "execution_count": 25,
     "metadata": {},
     "output_type": "execute_result"
    }
   ],
   "source": [
    "df = pd.DataFrame(np.array([[1,2,3],[4,5,6],[7,8,9]]),\n",
    "                 columns = ['a','b','c'],\n",
    "                 index = ['ab','ra','ca'])\n",
    "df"
   ]
  },
  {
   "cell_type": "code",
   "execution_count": 1,
   "id": "c7b47f0d-966a-4e7c-81bb-c53a76a47ffc",
   "metadata": {},
   "outputs": [
    {
     "data": {
      "text/plain": [
       "True"
      ]
     },
     "execution_count": 1,
     "metadata": {},
     "output_type": "execute_result"
    }
   ],
   "source": [
    "'apple' in 'pineapple'"
   ]
  },
  {
   "cell_type": "code",
   "execution_count": 2,
   "id": "fd388e0c-f9c6-4d64-a543-652e4ddf5291",
   "metadata": {},
   "outputs": [],
   "source": [
    "fruit  = 'apple'"
   ]
  },
  {
   "cell_type": "code",
   "execution_count": 3,
   "id": "fb1298b8-5f04-477a-9cec-28111e2bcad6",
   "metadata": {},
   "outputs": [
    {
     "data": {
      "text/plain": [
       "True"
      ]
     },
     "execution_count": 3,
     "metadata": {},
     "output_type": "execute_result"
    }
   ],
   "source": [
    "'app' in fruit"
   ]
  },
  {
   "cell_type": "code",
   "execution_count": 4,
   "id": "078646c7-b46e-46ca-9952-df8d78ae18f1",
   "metadata": {},
   "outputs": [
    {
     "data": {
      "text/plain": [
       "False"
      ]
     },
     "execution_count": 4,
     "metadata": {},
     "output_type": "execute_result"
    }
   ],
   "source": [
    "'ale' in fruit"
   ]
  },
  {
   "cell_type": "code",
   "execution_count": 17,
   "id": "81e87803-2725-4eee-83e4-1db99a02874b",
   "metadata": {},
   "outputs": [
    {
     "data": {
      "text/html": [
       "<div>\n",
       "<style scoped>\n",
       "    .dataframe tbody tr th:only-of-type {\n",
       "        vertical-align: middle;\n",
       "    }\n",
       "\n",
       "    .dataframe tbody tr th {\n",
       "        vertical-align: top;\n",
       "    }\n",
       "\n",
       "    .dataframe thead th {\n",
       "        text-align: right;\n",
       "    }\n",
       "</style>\n",
       "<table border=\"1\" class=\"dataframe\">\n",
       "  <thead>\n",
       "    <tr style=\"text-align: right;\">\n",
       "      <th></th>\n",
       "      <th>0</th>\n",
       "      <th>1</th>\n",
       "      <th>2</th>\n",
       "      <th>3</th>\n",
       "      <th>4</th>\n",
       "      <th>5</th>\n",
       "      <th>6</th>\n",
       "      <th>7</th>\n",
       "      <th>8</th>\n",
       "    </tr>\n",
       "  </thead>\n",
       "  <tbody>\n",
       "    <tr>\n",
       "      <th>0</th>\n",
       "      <td>1</td>\n",
       "      <td>2</td>\n",
       "      <td>3</td>\n",
       "      <td>4</td>\n",
       "      <td>5</td>\n",
       "      <td>6</td>\n",
       "      <td>7</td>\n",
       "      <td>8</td>\n",
       "      <td>9</td>\n",
       "    </tr>\n",
       "  </tbody>\n",
       "</table>\n",
       "</div>"
      ],
      "text/plain": [
       "   0  1  2  3  4  5  6  7  8\n",
       "0  1  2  3  4  5  6  7  8  9"
      ]
     },
     "execution_count": 17,
     "metadata": {},
     "output_type": "execute_result"
    }
   ],
   "source": [
    "data = (1,2,3,\n",
    "        4,5,6,\n",
    "        7,8,9),\n",
    "#columns = ['1'],['2'],['3']\n",
    "data = pd.DataFrame(data)\n",
    "data"
   ]
  },
  {
   "cell_type": "code",
   "execution_count": 9,
   "id": "8676a1e0-bfb1-465b-a63a-cd9fa8a689ee",
   "metadata": {},
   "outputs": [],
   "source": [
    "import numpy as np\n",
    "import pandas as pd"
   ]
  },
  {
   "cell_type": "code",
   "execution_count": 8,
   "id": "4d7725b7-38fa-4585-ac8a-b1fca90ec623",
   "metadata": {},
   "outputs": [
    {
     "name": "stdout",
     "output_type": "stream",
     "text": [
      "Collecting numpy\n",
      "  Downloading numpy-2.2.3-cp313-cp313-win_amd64.whl.metadata (60 kB)\n",
      "Collecting pandas\n",
      "  Downloading pandas-2.2.3-cp313-cp313-win_amd64.whl.metadata (19 kB)\n",
      "Requirement already satisfied: python-dateutil>=2.8.2 in c:\\users\\sathv\\appdata\\local\\programs\\python\\python313\\lib\\site-packages (from pandas) (2.9.0.post0)\n",
      "Collecting pytz>=2020.1 (from pandas)\n",
      "  Downloading pytz-2025.1-py2.py3-none-any.whl.metadata (22 kB)\n",
      "Collecting tzdata>=2022.7 (from pandas)\n",
      "  Downloading tzdata-2025.1-py2.py3-none-any.whl.metadata (1.4 kB)\n",
      "Requirement already satisfied: six>=1.5 in c:\\users\\sathv\\appdata\\local\\programs\\python\\python313\\lib\\site-packages (from python-dateutil>=2.8.2->pandas) (1.17.0)\n",
      "Downloading numpy-2.2.3-cp313-cp313-win_amd64.whl (12.6 MB)\n",
      "   ---------------------------------------- 0.0/12.6 MB ? eta -:--:--\n",
      "   --- ------------------------------------ 1.0/12.6 MB 6.1 MB/s eta 0:00:02\n",
      "   ------ --------------------------------- 2.1/12.6 MB 5.7 MB/s eta 0:00:02\n",
      "   --------- ------------------------------ 3.1/12.6 MB 5.5 MB/s eta 0:00:02\n",
      "   ------------ --------------------------- 3.9/12.6 MB 5.1 MB/s eta 0:00:02\n",
      "   --------------- ------------------------ 5.0/12.6 MB 4.9 MB/s eta 0:00:02\n",
      "   ------------------ --------------------- 5.8/12.6 MB 4.8 MB/s eta 0:00:02\n",
      "   --------------------- ------------------ 6.8/12.6 MB 4.8 MB/s eta 0:00:02\n",
      "   ------------------------ --------------- 7.9/12.6 MB 4.8 MB/s eta 0:00:01\n",
      "   ----------------------------- ---------- 9.2/12.6 MB 4.9 MB/s eta 0:00:01\n",
      "   ------------------------------ --------- 9.7/12.6 MB 4.7 MB/s eta 0:00:01\n",
      "   ---------------------------------- ----- 11.0/12.6 MB 4.9 MB/s eta 0:00:01\n",
      "   -------------------------------------- - 12.1/12.6 MB 4.9 MB/s eta 0:00:01\n",
      "   ---------------------------------------- 12.6/12.6 MB 4.7 MB/s eta 0:00:00\n",
      "Downloading pandas-2.2.3-cp313-cp313-win_amd64.whl (11.5 MB)\n",
      "   ---------------------------------------- 0.0/11.5 MB ? eta -:--:--\n",
      "   - -------------------------------------- 0.5/11.5 MB 3.6 MB/s eta 0:00:04\n",
      "   ---- ----------------------------------- 1.3/11.5 MB 3.7 MB/s eta 0:00:03\n",
      "   -------- ------------------------------- 2.4/11.5 MB 3.9 MB/s eta 0:00:03\n",
      "   ---------- ----------------------------- 3.1/11.5 MB 4.1 MB/s eta 0:00:03\n",
      "   -------------- ------------------------- 4.2/11.5 MB 4.2 MB/s eta 0:00:02\n",
      "   ------------------ --------------------- 5.2/11.5 MB 4.3 MB/s eta 0:00:02\n",
      "   --------------------- ------------------ 6.3/11.5 MB 4.4 MB/s eta 0:00:02\n",
      "   ------------------------ --------------- 7.1/11.5 MB 4.4 MB/s eta 0:00:02\n",
      "   ----------------------------- ---------- 8.4/11.5 MB 4.5 MB/s eta 0:00:01\n",
      "   -------------------------------- ------- 9.4/11.5 MB 4.6 MB/s eta 0:00:01\n",
      "   ---------------------------------- ----- 10.0/11.5 MB 4.5 MB/s eta 0:00:01\n",
      "   ------------------------------------- -- 10.7/11.5 MB 4.3 MB/s eta 0:00:01\n",
      "   ---------------------------------------  11.3/11.5 MB 4.3 MB/s eta 0:00:01\n",
      "   ---------------------------------------- 11.5/11.5 MB 4.2 MB/s eta 0:00:00\n",
      "Downloading pytz-2025.1-py2.py3-none-any.whl (507 kB)\n",
      "Downloading tzdata-2025.1-py2.py3-none-any.whl (346 kB)\n",
      "Installing collected packages: pytz, tzdata, numpy, pandas\n",
      "Successfully installed numpy-2.2.3 pandas-2.2.3 pytz-2025.1 tzdata-2025.1\n"
     ]
    },
    {
     "name": "stderr",
     "output_type": "stream",
     "text": [
      "\n",
      "[notice] A new release of pip is available: 24.3.1 -> 25.0.1\n",
      "[notice] To update, run: python.exe -m pip install --upgrade pip\n"
     ]
    },
    {
     "name": "stdout",
     "output_type": "stream",
     "text": [
      "Requirement already satisfied: numpy in c:\\users\\sathv\\appdata\\local\\programs\\python\\python313\\lib\\site-packages (2.2.3)\n"
     ]
    },
    {
     "name": "stderr",
     "output_type": "stream",
     "text": [
      "\n",
      "[notice] A new release of pip is available: 24.3.1 -> 25.0.1\n",
      "[notice] To update, run: python.exe -m pip install --upgrade pip\n"
     ]
    }
   ],
   "source": [
    "!pip install numpy pandas\n",
    "!pip install numpy numpy\n"
   ]
  },
  {
   "cell_type": "code",
   "execution_count": 18,
   "id": "6341759e-51c5-44e5-a3b9-e38c8343a7a1",
   "metadata": {},
   "outputs": [
    {
     "data": {
      "text/plain": [
       "{'1': ['1', '2', '3'], '2': ['4', '5', '6'], '3': ['7', '8', '9']}"
      ]
     },
     "execution_count": 18,
     "metadata": {},
     "output_type": "execute_result"
    }
   ],
   "source": [
    "data = {\n",
    "    \"1\": ['1','2','3'],\n",
    "    \"2\": ['4','5','6'],\n",
    "    \"3\": ['7', '8', '9']\n",
    "}\n",
    "data"
   ]
  },
  {
   "cell_type": "code",
   "execution_count": 20,
   "id": "f5656d6f-5281-4af7-af9c-0b331614c459",
   "metadata": {},
   "outputs": [
    {
     "data": {
      "text/html": [
       "<div>\n",
       "<style scoped>\n",
       "    .dataframe tbody tr th:only-of-type {\n",
       "        vertical-align: middle;\n",
       "    }\n",
       "\n",
       "    .dataframe tbody tr th {\n",
       "        vertical-align: top;\n",
       "    }\n",
       "\n",
       "    .dataframe thead th {\n",
       "        text-align: right;\n",
       "    }\n",
       "</style>\n",
       "<table border=\"1\" class=\"dataframe\">\n",
       "  <thead>\n",
       "    <tr style=\"text-align: right;\">\n",
       "      <th></th>\n",
       "      <th>1</th>\n",
       "      <th>2</th>\n",
       "      <th>3</th>\n",
       "    </tr>\n",
       "  </thead>\n",
       "  <tbody>\n",
       "    <tr>\n",
       "      <th>0</th>\n",
       "      <td>1</td>\n",
       "      <td>4</td>\n",
       "      <td>7</td>\n",
       "    </tr>\n",
       "    <tr>\n",
       "      <th>1</th>\n",
       "      <td>2</td>\n",
       "      <td>5</td>\n",
       "      <td>8</td>\n",
       "    </tr>\n",
       "    <tr>\n",
       "      <th>2</th>\n",
       "      <td>3</td>\n",
       "      <td>6</td>\n",
       "      <td>9</td>\n",
       "    </tr>\n",
       "  </tbody>\n",
       "</table>\n",
       "</div>"
      ],
      "text/plain": [
       "   1  2  3\n",
       "0  1  4  7\n",
       "1  2  5  8\n",
       "2  3  6  9"
      ]
     },
     "execution_count": 20,
     "metadata": {},
     "output_type": "execute_result"
    }
   ],
   "source": [
    "data = pd.DataFrame(data)\n",
    "data"
   ]
  },
  {
   "cell_type": "code",
   "execution_count": 23,
   "id": "ee2a5970-6ee4-460e-a12b-d01abb282c83",
   "metadata": {},
   "outputs": [
    {
     "data": {
      "text/html": [
       "<div>\n",
       "<style scoped>\n",
       "    .dataframe tbody tr th:only-of-type {\n",
       "        vertical-align: middle;\n",
       "    }\n",
       "\n",
       "    .dataframe tbody tr th {\n",
       "        vertical-align: top;\n",
       "    }\n",
       "\n",
       "    .dataframe thead th {\n",
       "        text-align: right;\n",
       "    }\n",
       "</style>\n",
       "<table border=\"1\" class=\"dataframe\">\n",
       "  <thead>\n",
       "    <tr style=\"text-align: right;\">\n",
       "      <th></th>\n",
       "      <th>1</th>\n",
       "      <th>2</th>\n",
       "    </tr>\n",
       "  </thead>\n",
       "  <tbody>\n",
       "    <tr>\n",
       "      <th>0</th>\n",
       "      <td>1</td>\n",
       "      <td>4</td>\n",
       "    </tr>\n",
       "    <tr>\n",
       "      <th>1</th>\n",
       "      <td>2</td>\n",
       "      <td>5</td>\n",
       "    </tr>\n",
       "    <tr>\n",
       "      <th>2</th>\n",
       "      <td>3</td>\n",
       "      <td>6</td>\n",
       "    </tr>\n",
       "  </tbody>\n",
       "</table>\n",
       "</div>"
      ],
      "text/plain": [
       "   1  2\n",
       "0  1  4\n",
       "1  2  5\n",
       "2  3  6"
      ]
     },
     "execution_count": 23,
     "metadata": {},
     "output_type": "execute_result"
    }
   ],
   "source": [
    "data[['1','2']]"
   ]
  },
  {
   "cell_type": "code",
   "execution_count": 34,
   "id": "6d7b7b69-5b24-42c8-bd4b-6fd7f11c7d62",
   "metadata": {},
   "outputs": [
    {
     "data": {
      "text/html": [
       "<div>\n",
       "<style scoped>\n",
       "    .dataframe tbody tr th:only-of-type {\n",
       "        vertical-align: middle;\n",
       "    }\n",
       "\n",
       "    .dataframe tbody tr th {\n",
       "        vertical-align: top;\n",
       "    }\n",
       "\n",
       "    .dataframe thead th {\n",
       "        text-align: right;\n",
       "    }\n",
       "</style>\n",
       "<table border=\"1\" class=\"dataframe\">\n",
       "  <thead>\n",
       "    <tr style=\"text-align: right;\">\n",
       "      <th></th>\n",
       "      <th>2</th>\n",
       "    </tr>\n",
       "  </thead>\n",
       "  <tbody>\n",
       "    <tr>\n",
       "      <th>0</th>\n",
       "      <td>4</td>\n",
       "    </tr>\n",
       "    <tr>\n",
       "      <th>1</th>\n",
       "      <td>5</td>\n",
       "    </tr>\n",
       "  </tbody>\n",
       "</table>\n",
       "</div>"
      ],
      "text/plain": [
       "   2\n",
       "0  4\n",
       "1  5"
      ]
     },
     "execution_count": 34,
     "metadata": {},
     "output_type": "execute_result"
    }
   ],
   "source": [
    "data.iloc[0:2, [1]]"
   ]
  },
  {
   "cell_type": "code",
   "execution_count": 36,
   "id": "94cbe7e1-b098-4c96-8ad0-27e408e8f054",
   "metadata": {},
   "outputs": [
    {
     "data": {
      "text/plain": [
       "0    4\n",
       "1    5\n",
       "2    6\n",
       "Name: 2, dtype: object"
      ]
     },
     "execution_count": 36,
     "metadata": {},
     "output_type": "execute_result"
    }
   ],
   "source": [
    "data.loc[0:2, '2']"
   ]
  },
  {
   "cell_type": "code",
   "execution_count": 42,
   "id": "8bc616a9-649e-4247-974d-da244ea5a54d",
   "metadata": {},
   "outputs": [],
   "source": [
    "data['2'] = int('3')"
   ]
  },
  {
   "cell_type": "code",
   "execution_count": 43,
   "id": "11612849-dee9-4b07-b81c-d030c64572ee",
   "metadata": {},
   "outputs": [
    {
     "data": {
      "text/html": [
       "<div>\n",
       "<style scoped>\n",
       "    .dataframe tbody tr th:only-of-type {\n",
       "        vertical-align: middle;\n",
       "    }\n",
       "\n",
       "    .dataframe tbody tr th {\n",
       "        vertical-align: top;\n",
       "    }\n",
       "\n",
       "    .dataframe thead th {\n",
       "        text-align: right;\n",
       "    }\n",
       "</style>\n",
       "<table border=\"1\" class=\"dataframe\">\n",
       "  <thead>\n",
       "    <tr style=\"text-align: right;\">\n",
       "      <th></th>\n",
       "      <th>1</th>\n",
       "      <th>2</th>\n",
       "      <th>3</th>\n",
       "      <th>4</th>\n",
       "    </tr>\n",
       "  </thead>\n",
       "  <tbody>\n",
       "    <tr>\n",
       "      <th>0</th>\n",
       "      <td>1</td>\n",
       "      <td>2</td>\n",
       "      <td>3</td>\n",
       "      <td>300</td>\n",
       "    </tr>\n",
       "    <tr>\n",
       "      <th>1</th>\n",
       "      <td>2</td>\n",
       "      <td>2</td>\n",
       "      <td>3</td>\n",
       "      <td>300</td>\n",
       "    </tr>\n",
       "    <tr>\n",
       "      <th>2</th>\n",
       "      <td>3</td>\n",
       "      <td>2</td>\n",
       "      <td>3</td>\n",
       "      <td>300</td>\n",
       "    </tr>\n",
       "  </tbody>\n",
       "</table>\n",
       "</div>"
      ],
      "text/plain": [
       "   1  2  3    4\n",
       "0  1  2  3  300\n",
       "1  2  2  3  300\n",
       "2  3  2  3  300"
      ]
     },
     "execution_count": 43,
     "metadata": {},
     "output_type": "execute_result"
    }
   ],
   "source": [
    "data['4'] = data['3']*100\n",
    "data"
   ]
  },
  {
   "cell_type": "code",
   "execution_count": 44,
   "id": "3c89de41-c2a1-4594-adec-2a2f69572726",
   "metadata": {},
   "outputs": [
    {
     "data": {
      "text/plain": [
       "0    False\n",
       "1    False\n",
       "2    False\n",
       "Name: 2, dtype: bool"
      ]
     },
     "execution_count": 44,
     "metadata": {},
     "output_type": "execute_result"
    }
   ],
   "source": [
    "mask = (data['2'])>2\n",
    "mask"
   ]
  },
  {
   "cell_type": "code",
   "execution_count": null,
   "id": "af104e33-8a55-44da-a344-6cac1c286abc",
   "metadata": {},
   "outputs": [],
   "source": []
  }
 ],
 "metadata": {
  "kernelspec": {
   "display_name": "Python 3 (ipykernel)",
   "language": "python",
   "name": "python3"
  },
  "language_info": {
   "codemirror_mode": {
    "name": "ipython",
    "version": 3
   },
   "file_extension": ".py",
   "mimetype": "text/x-python",
   "name": "python",
   "nbconvert_exporter": "python",
   "pygments_lexer": "ipython3",
   "version": "3.13.2"
  }
 },
 "nbformat": 4,
 "nbformat_minor": 5
}
