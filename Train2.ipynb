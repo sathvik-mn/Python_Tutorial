{
 "cells": [
  {
   "cell_type": "markdown",
   "id": "7e7f06d4-041b-4d2a-94ac-40ab59d76ccf",
   "metadata": {},
   "source": [
    "KNN Clasification"
   ]
  },
  {
   "cell_type": "raw",
   "id": "c31d73c6-5394-45fd-b1db-898df5e9ae62",
   "metadata": {},
   "source": [
    "A supervised classifier that memorizes observations from within a test set to predict classification labels for new, unlabeled observations\n",
    "Supervised machine learinng metjod can be used to classify the instanses based on the arithematic deference between the features and the labeled datasets"
   ]
  },
  {
   "cell_type": "raw",
   "id": "f50cd3a5-4a3f-4dd0-a6fe-582778f71ab3",
   "metadata": {},
   "source": [
    "K-NN makes predictions based on how similar training observations are to the new, incoming observations. The more similar the observation values, the more likely they will be classified with the same label."
   ]
  },
  {
   "cell_type": "raw",
   "id": "245d9773-275c-4ec3-b86b-b340b188c29a",
   "metadata": {},
   "source": [
    "Dataset has little noise\n",
    "Dataset is labeled\n",
    "Dataset only contains relevant features\n",
    "Dataset has distinguishable subgroups\n",
    "\n",
    "✔ Avoid using k-NN on large datasets. It will probably take a long time!"
   ]
  },
  {
   "cell_type": "code",
   "execution_count": 1,
   "id": "30d19480-6b4e-4ed4-a501-c5eafa9a0873",
   "metadata": {},
   "outputs": [],
   "source": [
    "import pandas as pd\n",
    "import numpy as np\n",
    "import scipy\n",
    "\n",
    "import matplotlib.pyplot as plt\n",
    "from pylab import rcParams\n",
    "import seaborn as sns\n",
    "\n",
    "import urllib"
   ]
  },
  {
   "cell_type": "code",
   "execution_count": 3,
   "id": "b0b45e80-d0cc-4f97-af60-8d3d0654c0dd",
   "metadata": {},
   "outputs": [],
   "source": [
    "import sklearn\n",
    "from sklearn.neighbors import KNeighborsClassifier"
   ]
  },
  {
   "cell_type": "code",
   "execution_count": 4,
   "id": "cb222204-bac0-4d64-88d6-005d7ac2987e",
   "metadata": {},
   "outputs": [],
   "source": [
    "from sklearn import neighbors , preprocessing\n",
    "from sklearn.model_selection import train_test_split\n",
    "from sklearn import metrics"
   ]
  },
  {
   "cell_type": "code",
   "execution_count": 5,
   "id": "c7f72d10-d7c1-4894-be2d-be83f40779f1",
   "metadata": {},
   "outputs": [],
   "source": [
    "cars = pd.read_csv(\"D:/Learning/Python/mtcars.csv\")"
   ]
  },
  {
   "cell_type": "code",
   "execution_count": 8,
   "id": "186de261-578b-41e8-bfc1-ae5db949ac1a",
   "metadata": {},
   "outputs": [
    {
     "data": {
      "text/html": [
       "<div>\n",
       "<style scoped>\n",
       "    .dataframe tbody tr th:only-of-type {\n",
       "        vertical-align: middle;\n",
       "    }\n",
       "\n",
       "    .dataframe tbody tr th {\n",
       "        vertical-align: top;\n",
       "    }\n",
       "\n",
       "    .dataframe thead th {\n",
       "        text-align: right;\n",
       "    }\n",
       "</style>\n",
       "<table border=\"1\" class=\"dataframe\">\n",
       "  <thead>\n",
       "    <tr style=\"text-align: right;\">\n",
       "      <th></th>\n",
       "      <th>car_names</th>\n",
       "      <th>mpg</th>\n",
       "      <th>cyl</th>\n",
       "      <th>disp</th>\n",
       "      <th>hp</th>\n",
       "      <th>drat</th>\n",
       "      <th>wt</th>\n",
       "      <th>qsec</th>\n",
       "      <th>vs</th>\n",
       "      <th>am</th>\n",
       "      <th>gear</th>\n",
       "      <th>carb</th>\n",
       "    </tr>\n",
       "  </thead>\n",
       "  <tbody>\n",
       "    <tr>\n",
       "      <th>0</th>\n",
       "      <td>Mazda RX4</td>\n",
       "      <td>21.0</td>\n",
       "      <td>6</td>\n",
       "      <td>160.0</td>\n",
       "      <td>110</td>\n",
       "      <td>3.90</td>\n",
       "      <td>2.620</td>\n",
       "      <td>16.46</td>\n",
       "      <td>0</td>\n",
       "      <td>1</td>\n",
       "      <td>4</td>\n",
       "      <td>4</td>\n",
       "    </tr>\n",
       "    <tr>\n",
       "      <th>1</th>\n",
       "      <td>Mazda RX4 Wag</td>\n",
       "      <td>21.0</td>\n",
       "      <td>6</td>\n",
       "      <td>160.0</td>\n",
       "      <td>110</td>\n",
       "      <td>3.90</td>\n",
       "      <td>2.875</td>\n",
       "      <td>17.02</td>\n",
       "      <td>0</td>\n",
       "      <td>1</td>\n",
       "      <td>4</td>\n",
       "      <td>4</td>\n",
       "    </tr>\n",
       "    <tr>\n",
       "      <th>2</th>\n",
       "      <td>Datsun 710</td>\n",
       "      <td>22.8</td>\n",
       "      <td>4</td>\n",
       "      <td>108.0</td>\n",
       "      <td>93</td>\n",
       "      <td>3.85</td>\n",
       "      <td>2.320</td>\n",
       "      <td>18.61</td>\n",
       "      <td>1</td>\n",
       "      <td>1</td>\n",
       "      <td>4</td>\n",
       "      <td>1</td>\n",
       "    </tr>\n",
       "    <tr>\n",
       "      <th>3</th>\n",
       "      <td>Hornet 4 Drive</td>\n",
       "      <td>21.4</td>\n",
       "      <td>6</td>\n",
       "      <td>258.0</td>\n",
       "      <td>110</td>\n",
       "      <td>3.08</td>\n",
       "      <td>3.215</td>\n",
       "      <td>19.44</td>\n",
       "      <td>1</td>\n",
       "      <td>0</td>\n",
       "      <td>3</td>\n",
       "      <td>1</td>\n",
       "    </tr>\n",
       "    <tr>\n",
       "      <th>4</th>\n",
       "      <td>Hornet Sportabout</td>\n",
       "      <td>18.7</td>\n",
       "      <td>8</td>\n",
       "      <td>360.0</td>\n",
       "      <td>175</td>\n",
       "      <td>3.15</td>\n",
       "      <td>3.440</td>\n",
       "      <td>17.02</td>\n",
       "      <td>0</td>\n",
       "      <td>0</td>\n",
       "      <td>3</td>\n",
       "      <td>2</td>\n",
       "    </tr>\n",
       "  </tbody>\n",
       "</table>\n",
       "</div>"
      ],
      "text/plain": [
       "           car_names   mpg  cyl   disp   hp  drat     wt   qsec  vs  am  gear  \\\n",
       "0          Mazda RX4  21.0    6  160.0  110  3.90  2.620  16.46   0   1     4   \n",
       "1      Mazda RX4 Wag  21.0    6  160.0  110  3.90  2.875  17.02   0   1     4   \n",
       "2         Datsun 710  22.8    4  108.0   93  3.85  2.320  18.61   1   1     4   \n",
       "3     Hornet 4 Drive  21.4    6  258.0  110  3.08  3.215  19.44   1   0     3   \n",
       "4  Hornet Sportabout  18.7    8  360.0  175  3.15  3.440  17.02   0   0     3   \n",
       "\n",
       "   carb  \n",
       "0     4  \n",
       "1     4  \n",
       "2     1  \n",
       "3     1  \n",
       "4     2  "
      ]
     },
     "execution_count": 8,
     "metadata": {},
     "output_type": "execute_result"
    }
   ],
   "source": []
  },
  {
   "cell_type": "code",
   "execution_count": 7,
   "id": "52f5ed86-c2db-4d5a-97c4-b35a37ffea0f",
   "metadata": {},
   "outputs": [],
   "source": [
    "cars.columns = ['car_names','mpg','cyl','disp', 'hp', 'drat', 'wt', 'qsec', 'vs', 'am', 'gear', 'carb']"
   ]
  },
  {
   "cell_type": "code",
   "execution_count": 9,
   "id": "0404be7e-750e-4cf5-86a7-2c67e01b51ae",
   "metadata": {},
   "outputs": [
    {
     "data": {
      "text/html": [
       "<div>\n",
       "<style scoped>\n",
       "    .dataframe tbody tr th:only-of-type {\n",
       "        vertical-align: middle;\n",
       "    }\n",
       "\n",
       "    .dataframe tbody tr th {\n",
       "        vertical-align: top;\n",
       "    }\n",
       "\n",
       "    .dataframe thead th {\n",
       "        text-align: right;\n",
       "    }\n",
       "</style>\n",
       "<table border=\"1\" class=\"dataframe\">\n",
       "  <thead>\n",
       "    <tr style=\"text-align: right;\">\n",
       "      <th></th>\n",
       "      <th>car_names</th>\n",
       "      <th>mpg</th>\n",
       "      <th>cyl</th>\n",
       "      <th>disp</th>\n",
       "      <th>hp</th>\n",
       "      <th>drat</th>\n",
       "      <th>wt</th>\n",
       "      <th>qsec</th>\n",
       "      <th>vs</th>\n",
       "      <th>am</th>\n",
       "      <th>gear</th>\n",
       "      <th>carb</th>\n",
       "    </tr>\n",
       "  </thead>\n",
       "  <tbody>\n",
       "    <tr>\n",
       "      <th>0</th>\n",
       "      <td>Mazda RX4</td>\n",
       "      <td>21.0</td>\n",
       "      <td>6</td>\n",
       "      <td>160.0</td>\n",
       "      <td>110</td>\n",
       "      <td>3.90</td>\n",
       "      <td>2.620</td>\n",
       "      <td>16.46</td>\n",
       "      <td>0</td>\n",
       "      <td>1</td>\n",
       "      <td>4</td>\n",
       "      <td>4</td>\n",
       "    </tr>\n",
       "    <tr>\n",
       "      <th>1</th>\n",
       "      <td>Mazda RX4 Wag</td>\n",
       "      <td>21.0</td>\n",
       "      <td>6</td>\n",
       "      <td>160.0</td>\n",
       "      <td>110</td>\n",
       "      <td>3.90</td>\n",
       "      <td>2.875</td>\n",
       "      <td>17.02</td>\n",
       "      <td>0</td>\n",
       "      <td>1</td>\n",
       "      <td>4</td>\n",
       "      <td>4</td>\n",
       "    </tr>\n",
       "    <tr>\n",
       "      <th>2</th>\n",
       "      <td>Datsun 710</td>\n",
       "      <td>22.8</td>\n",
       "      <td>4</td>\n",
       "      <td>108.0</td>\n",
       "      <td>93</td>\n",
       "      <td>3.85</td>\n",
       "      <td>2.320</td>\n",
       "      <td>18.61</td>\n",
       "      <td>1</td>\n",
       "      <td>1</td>\n",
       "      <td>4</td>\n",
       "      <td>1</td>\n",
       "    </tr>\n",
       "    <tr>\n",
       "      <th>3</th>\n",
       "      <td>Hornet 4 Drive</td>\n",
       "      <td>21.4</td>\n",
       "      <td>6</td>\n",
       "      <td>258.0</td>\n",
       "      <td>110</td>\n",
       "      <td>3.08</td>\n",
       "      <td>3.215</td>\n",
       "      <td>19.44</td>\n",
       "      <td>1</td>\n",
       "      <td>0</td>\n",
       "      <td>3</td>\n",
       "      <td>1</td>\n",
       "    </tr>\n",
       "    <tr>\n",
       "      <th>4</th>\n",
       "      <td>Hornet Sportabout</td>\n",
       "      <td>18.7</td>\n",
       "      <td>8</td>\n",
       "      <td>360.0</td>\n",
       "      <td>175</td>\n",
       "      <td>3.15</td>\n",
       "      <td>3.440</td>\n",
       "      <td>17.02</td>\n",
       "      <td>0</td>\n",
       "      <td>0</td>\n",
       "      <td>3</td>\n",
       "      <td>2</td>\n",
       "    </tr>\n",
       "  </tbody>\n",
       "</table>\n",
       "</div>"
      ],
      "text/plain": [
       "           car_names   mpg  cyl   disp   hp  drat     wt   qsec  vs  am  gear  \\\n",
       "0          Mazda RX4  21.0    6  160.0  110  3.90  2.620  16.46   0   1     4   \n",
       "1      Mazda RX4 Wag  21.0    6  160.0  110  3.90  2.875  17.02   0   1     4   \n",
       "2         Datsun 710  22.8    4  108.0   93  3.85  2.320  18.61   1   1     4   \n",
       "3     Hornet 4 Drive  21.4    6  258.0  110  3.08  3.215  19.44   1   0     3   \n",
       "4  Hornet Sportabout  18.7    8  360.0  175  3.15  3.440  17.02   0   0     3   \n",
       "\n",
       "   carb  \n",
       "0     4  \n",
       "1     4  \n",
       "2     1  \n",
       "3     1  \n",
       "4     2  "
      ]
     },
     "execution_count": 9,
     "metadata": {},
     "output_type": "execute_result"
    }
   ],
   "source": [
    "cars.head()"
   ]
  },
  {
   "cell_type": "code",
   "execution_count": 14,
   "id": "29d0c5dc-74f0-4c2e-a5d7-0d72019a683e",
   "metadata": {},
   "outputs": [],
   "source": [
    "x_prime = cars[['mpg','disp','hp','wt']].values\n",
    "y = cars.iloc[:,9].values"
   ]
  },
  {
   "cell_type": "code",
   "execution_count": 15,
   "id": "45805f85-03d1-41ca-a5bd-bb5ae337dd44",
   "metadata": {},
   "outputs": [
    {
     "data": {
      "text/plain": [
       "array([1, 1, 1, 0, 0, 0, 0, 0, 0, 0, 0, 0, 0, 0, 0, 0, 0, 1, 1, 1, 0, 0,\n",
       "       0, 0, 0, 1, 1, 1, 1, 1, 1, 1], dtype=int64)"
      ]
     },
     "execution_count": 15,
     "metadata": {},
     "output_type": "execute_result"
    }
   ],
   "source": [
    "y"
   ]
  },
  {
   "cell_type": "code",
   "execution_count": 16,
   "id": "4d90e5e4-06c9-44ef-8c3c-c4b50d6d6467",
   "metadata": {},
   "outputs": [],
   "source": [
    "# its good to scale values before using KNN\n",
    "x = preprocessing.scale(x_prime)"
   ]
  },
  {
   "cell_type": "code",
   "execution_count": 22,
   "id": "a11fadb0-0207-47a0-8d2b-05fc55778201",
   "metadata": {},
   "outputs": [],
   "source": [
    "#Split\n",
    "x_train, x_test, y_train, y_test = train_test_split(x,y, test_size = 0.2, random_state = 17)"
   ]
  },
  {
   "cell_type": "code",
   "execution_count": 23,
   "id": "8eacb926-7356-4f2f-ba31-4ba048617943",
   "metadata": {},
   "outputs": [
    {
     "data": {
      "text/html": [
       "<style>#sk-container-id-1 {\n",
       "  /* Definition of color scheme common for light and dark mode */\n",
       "  --sklearn-color-text: black;\n",
       "  --sklearn-color-line: gray;\n",
       "  /* Definition of color scheme for unfitted estimators */\n",
       "  --sklearn-color-unfitted-level-0: #fff5e6;\n",
       "  --sklearn-color-unfitted-level-1: #f6e4d2;\n",
       "  --sklearn-color-unfitted-level-2: #ffe0b3;\n",
       "  --sklearn-color-unfitted-level-3: chocolate;\n",
       "  /* Definition of color scheme for fitted estimators */\n",
       "  --sklearn-color-fitted-level-0: #f0f8ff;\n",
       "  --sklearn-color-fitted-level-1: #d4ebff;\n",
       "  --sklearn-color-fitted-level-2: #b3dbfd;\n",
       "  --sklearn-color-fitted-level-3: cornflowerblue;\n",
       "\n",
       "  /* Specific color for light theme */\n",
       "  --sklearn-color-text-on-default-background: var(--sg-text-color, var(--theme-code-foreground, var(--jp-content-font-color1, black)));\n",
       "  --sklearn-color-background: var(--sg-background-color, var(--theme-background, var(--jp-layout-color0, white)));\n",
       "  --sklearn-color-border-box: var(--sg-text-color, var(--theme-code-foreground, var(--jp-content-font-color1, black)));\n",
       "  --sklearn-color-icon: #696969;\n",
       "\n",
       "  @media (prefers-color-scheme: dark) {\n",
       "    /* Redefinition of color scheme for dark theme */\n",
       "    --sklearn-color-text-on-default-background: var(--sg-text-color, var(--theme-code-foreground, var(--jp-content-font-color1, white)));\n",
       "    --sklearn-color-background: var(--sg-background-color, var(--theme-background, var(--jp-layout-color0, #111)));\n",
       "    --sklearn-color-border-box: var(--sg-text-color, var(--theme-code-foreground, var(--jp-content-font-color1, white)));\n",
       "    --sklearn-color-icon: #878787;\n",
       "  }\n",
       "}\n",
       "\n",
       "#sk-container-id-1 {\n",
       "  color: var(--sklearn-color-text);\n",
       "}\n",
       "\n",
       "#sk-container-id-1 pre {\n",
       "  padding: 0;\n",
       "}\n",
       "\n",
       "#sk-container-id-1 input.sk-hidden--visually {\n",
       "  border: 0;\n",
       "  clip: rect(1px 1px 1px 1px);\n",
       "  clip: rect(1px, 1px, 1px, 1px);\n",
       "  height: 1px;\n",
       "  margin: -1px;\n",
       "  overflow: hidden;\n",
       "  padding: 0;\n",
       "  position: absolute;\n",
       "  width: 1px;\n",
       "}\n",
       "\n",
       "#sk-container-id-1 div.sk-dashed-wrapped {\n",
       "  border: 1px dashed var(--sklearn-color-line);\n",
       "  margin: 0 0.4em 0.5em 0.4em;\n",
       "  box-sizing: border-box;\n",
       "  padding-bottom: 0.4em;\n",
       "  background-color: var(--sklearn-color-background);\n",
       "}\n",
       "\n",
       "#sk-container-id-1 div.sk-container {\n",
       "  /* jupyter's `normalize.less` sets `[hidden] { display: none; }`\n",
       "     but bootstrap.min.css set `[hidden] { display: none !important; }`\n",
       "     so we also need the `!important` here to be able to override the\n",
       "     default hidden behavior on the sphinx rendered scikit-learn.org.\n",
       "     See: https://github.com/scikit-learn/scikit-learn/issues/21755 */\n",
       "  display: inline-block !important;\n",
       "  position: relative;\n",
       "}\n",
       "\n",
       "#sk-container-id-1 div.sk-text-repr-fallback {\n",
       "  display: none;\n",
       "}\n",
       "\n",
       "div.sk-parallel-item,\n",
       "div.sk-serial,\n",
       "div.sk-item {\n",
       "  /* draw centered vertical line to link estimators */\n",
       "  background-image: linear-gradient(var(--sklearn-color-text-on-default-background), var(--sklearn-color-text-on-default-background));\n",
       "  background-size: 2px 100%;\n",
       "  background-repeat: no-repeat;\n",
       "  background-position: center center;\n",
       "}\n",
       "\n",
       "/* Parallel-specific style estimator block */\n",
       "\n",
       "#sk-container-id-1 div.sk-parallel-item::after {\n",
       "  content: \"\";\n",
       "  width: 100%;\n",
       "  border-bottom: 2px solid var(--sklearn-color-text-on-default-background);\n",
       "  flex-grow: 1;\n",
       "}\n",
       "\n",
       "#sk-container-id-1 div.sk-parallel {\n",
       "  display: flex;\n",
       "  align-items: stretch;\n",
       "  justify-content: center;\n",
       "  background-color: var(--sklearn-color-background);\n",
       "  position: relative;\n",
       "}\n",
       "\n",
       "#sk-container-id-1 div.sk-parallel-item {\n",
       "  display: flex;\n",
       "  flex-direction: column;\n",
       "}\n",
       "\n",
       "#sk-container-id-1 div.sk-parallel-item:first-child::after {\n",
       "  align-self: flex-end;\n",
       "  width: 50%;\n",
       "}\n",
       "\n",
       "#sk-container-id-1 div.sk-parallel-item:last-child::after {\n",
       "  align-self: flex-start;\n",
       "  width: 50%;\n",
       "}\n",
       "\n",
       "#sk-container-id-1 div.sk-parallel-item:only-child::after {\n",
       "  width: 0;\n",
       "}\n",
       "\n",
       "/* Serial-specific style estimator block */\n",
       "\n",
       "#sk-container-id-1 div.sk-serial {\n",
       "  display: flex;\n",
       "  flex-direction: column;\n",
       "  align-items: center;\n",
       "  background-color: var(--sklearn-color-background);\n",
       "  padding-right: 1em;\n",
       "  padding-left: 1em;\n",
       "}\n",
       "\n",
       "\n",
       "/* Toggleable style: style used for estimator/Pipeline/ColumnTransformer box that is\n",
       "clickable and can be expanded/collapsed.\n",
       "- Pipeline and ColumnTransformer use this feature and define the default style\n",
       "- Estimators will overwrite some part of the style using the `sk-estimator` class\n",
       "*/\n",
       "\n",
       "/* Pipeline and ColumnTransformer style (default) */\n",
       "\n",
       "#sk-container-id-1 div.sk-toggleable {\n",
       "  /* Default theme specific background. It is overwritten whether we have a\n",
       "  specific estimator or a Pipeline/ColumnTransformer */\n",
       "  background-color: var(--sklearn-color-background);\n",
       "}\n",
       "\n",
       "/* Toggleable label */\n",
       "#sk-container-id-1 label.sk-toggleable__label {\n",
       "  cursor: pointer;\n",
       "  display: block;\n",
       "  width: 100%;\n",
       "  margin-bottom: 0;\n",
       "  padding: 0.5em;\n",
       "  box-sizing: border-box;\n",
       "  text-align: center;\n",
       "}\n",
       "\n",
       "#sk-container-id-1 label.sk-toggleable__label-arrow:before {\n",
       "  /* Arrow on the left of the label */\n",
       "  content: \"▸\";\n",
       "  float: left;\n",
       "  margin-right: 0.25em;\n",
       "  color: var(--sklearn-color-icon);\n",
       "}\n",
       "\n",
       "#sk-container-id-1 label.sk-toggleable__label-arrow:hover:before {\n",
       "  color: var(--sklearn-color-text);\n",
       "}\n",
       "\n",
       "/* Toggleable content - dropdown */\n",
       "\n",
       "#sk-container-id-1 div.sk-toggleable__content {\n",
       "  max-height: 0;\n",
       "  max-width: 0;\n",
       "  overflow: hidden;\n",
       "  text-align: left;\n",
       "  /* unfitted */\n",
       "  background-color: var(--sklearn-color-unfitted-level-0);\n",
       "}\n",
       "\n",
       "#sk-container-id-1 div.sk-toggleable__content.fitted {\n",
       "  /* fitted */\n",
       "  background-color: var(--sklearn-color-fitted-level-0);\n",
       "}\n",
       "\n",
       "#sk-container-id-1 div.sk-toggleable__content pre {\n",
       "  margin: 0.2em;\n",
       "  border-radius: 0.25em;\n",
       "  color: var(--sklearn-color-text);\n",
       "  /* unfitted */\n",
       "  background-color: var(--sklearn-color-unfitted-level-0);\n",
       "}\n",
       "\n",
       "#sk-container-id-1 div.sk-toggleable__content.fitted pre {\n",
       "  /* unfitted */\n",
       "  background-color: var(--sklearn-color-fitted-level-0);\n",
       "}\n",
       "\n",
       "#sk-container-id-1 input.sk-toggleable__control:checked~div.sk-toggleable__content {\n",
       "  /* Expand drop-down */\n",
       "  max-height: 200px;\n",
       "  max-width: 100%;\n",
       "  overflow: auto;\n",
       "}\n",
       "\n",
       "#sk-container-id-1 input.sk-toggleable__control:checked~label.sk-toggleable__label-arrow:before {\n",
       "  content: \"▾\";\n",
       "}\n",
       "\n",
       "/* Pipeline/ColumnTransformer-specific style */\n",
       "\n",
       "#sk-container-id-1 div.sk-label input.sk-toggleable__control:checked~label.sk-toggleable__label {\n",
       "  color: var(--sklearn-color-text);\n",
       "  background-color: var(--sklearn-color-unfitted-level-2);\n",
       "}\n",
       "\n",
       "#sk-container-id-1 div.sk-label.fitted input.sk-toggleable__control:checked~label.sk-toggleable__label {\n",
       "  background-color: var(--sklearn-color-fitted-level-2);\n",
       "}\n",
       "\n",
       "/* Estimator-specific style */\n",
       "\n",
       "/* Colorize estimator box */\n",
       "#sk-container-id-1 div.sk-estimator input.sk-toggleable__control:checked~label.sk-toggleable__label {\n",
       "  /* unfitted */\n",
       "  background-color: var(--sklearn-color-unfitted-level-2);\n",
       "}\n",
       "\n",
       "#sk-container-id-1 div.sk-estimator.fitted input.sk-toggleable__control:checked~label.sk-toggleable__label {\n",
       "  /* fitted */\n",
       "  background-color: var(--sklearn-color-fitted-level-2);\n",
       "}\n",
       "\n",
       "#sk-container-id-1 div.sk-label label.sk-toggleable__label,\n",
       "#sk-container-id-1 div.sk-label label {\n",
       "  /* The background is the default theme color */\n",
       "  color: var(--sklearn-color-text-on-default-background);\n",
       "}\n",
       "\n",
       "/* On hover, darken the color of the background */\n",
       "#sk-container-id-1 div.sk-label:hover label.sk-toggleable__label {\n",
       "  color: var(--sklearn-color-text);\n",
       "  background-color: var(--sklearn-color-unfitted-level-2);\n",
       "}\n",
       "\n",
       "/* Label box, darken color on hover, fitted */\n",
       "#sk-container-id-1 div.sk-label.fitted:hover label.sk-toggleable__label.fitted {\n",
       "  color: var(--sklearn-color-text);\n",
       "  background-color: var(--sklearn-color-fitted-level-2);\n",
       "}\n",
       "\n",
       "/* Estimator label */\n",
       "\n",
       "#sk-container-id-1 div.sk-label label {\n",
       "  font-family: monospace;\n",
       "  font-weight: bold;\n",
       "  display: inline-block;\n",
       "  line-height: 1.2em;\n",
       "}\n",
       "\n",
       "#sk-container-id-1 div.sk-label-container {\n",
       "  text-align: center;\n",
       "}\n",
       "\n",
       "/* Estimator-specific */\n",
       "#sk-container-id-1 div.sk-estimator {\n",
       "  font-family: monospace;\n",
       "  border: 1px dotted var(--sklearn-color-border-box);\n",
       "  border-radius: 0.25em;\n",
       "  box-sizing: border-box;\n",
       "  margin-bottom: 0.5em;\n",
       "  /* unfitted */\n",
       "  background-color: var(--sklearn-color-unfitted-level-0);\n",
       "}\n",
       "\n",
       "#sk-container-id-1 div.sk-estimator.fitted {\n",
       "  /* fitted */\n",
       "  background-color: var(--sklearn-color-fitted-level-0);\n",
       "}\n",
       "\n",
       "/* on hover */\n",
       "#sk-container-id-1 div.sk-estimator:hover {\n",
       "  /* unfitted */\n",
       "  background-color: var(--sklearn-color-unfitted-level-2);\n",
       "}\n",
       "\n",
       "#sk-container-id-1 div.sk-estimator.fitted:hover {\n",
       "  /* fitted */\n",
       "  background-color: var(--sklearn-color-fitted-level-2);\n",
       "}\n",
       "\n",
       "/* Specification for estimator info (e.g. \"i\" and \"?\") */\n",
       "\n",
       "/* Common style for \"i\" and \"?\" */\n",
       "\n",
       ".sk-estimator-doc-link,\n",
       "a:link.sk-estimator-doc-link,\n",
       "a:visited.sk-estimator-doc-link {\n",
       "  float: right;\n",
       "  font-size: smaller;\n",
       "  line-height: 1em;\n",
       "  font-family: monospace;\n",
       "  background-color: var(--sklearn-color-background);\n",
       "  border-radius: 1em;\n",
       "  height: 1em;\n",
       "  width: 1em;\n",
       "  text-decoration: none !important;\n",
       "  margin-left: 1ex;\n",
       "  /* unfitted */\n",
       "  border: var(--sklearn-color-unfitted-level-1) 1pt solid;\n",
       "  color: var(--sklearn-color-unfitted-level-1);\n",
       "}\n",
       "\n",
       ".sk-estimator-doc-link.fitted,\n",
       "a:link.sk-estimator-doc-link.fitted,\n",
       "a:visited.sk-estimator-doc-link.fitted {\n",
       "  /* fitted */\n",
       "  border: var(--sklearn-color-fitted-level-1) 1pt solid;\n",
       "  color: var(--sklearn-color-fitted-level-1);\n",
       "}\n",
       "\n",
       "/* On hover */\n",
       "div.sk-estimator:hover .sk-estimator-doc-link:hover,\n",
       ".sk-estimator-doc-link:hover,\n",
       "div.sk-label-container:hover .sk-estimator-doc-link:hover,\n",
       ".sk-estimator-doc-link:hover {\n",
       "  /* unfitted */\n",
       "  background-color: var(--sklearn-color-unfitted-level-3);\n",
       "  color: var(--sklearn-color-background);\n",
       "  text-decoration: none;\n",
       "}\n",
       "\n",
       "div.sk-estimator.fitted:hover .sk-estimator-doc-link.fitted:hover,\n",
       ".sk-estimator-doc-link.fitted:hover,\n",
       "div.sk-label-container:hover .sk-estimator-doc-link.fitted:hover,\n",
       ".sk-estimator-doc-link.fitted:hover {\n",
       "  /* fitted */\n",
       "  background-color: var(--sklearn-color-fitted-level-3);\n",
       "  color: var(--sklearn-color-background);\n",
       "  text-decoration: none;\n",
       "}\n",
       "\n",
       "/* Span, style for the box shown on hovering the info icon */\n",
       ".sk-estimator-doc-link span {\n",
       "  display: none;\n",
       "  z-index: 9999;\n",
       "  position: relative;\n",
       "  font-weight: normal;\n",
       "  right: .2ex;\n",
       "  padding: .5ex;\n",
       "  margin: .5ex;\n",
       "  width: min-content;\n",
       "  min-width: 20ex;\n",
       "  max-width: 50ex;\n",
       "  color: var(--sklearn-color-text);\n",
       "  box-shadow: 2pt 2pt 4pt #999;\n",
       "  /* unfitted */\n",
       "  background: var(--sklearn-color-unfitted-level-0);\n",
       "  border: .5pt solid var(--sklearn-color-unfitted-level-3);\n",
       "}\n",
       "\n",
       ".sk-estimator-doc-link.fitted span {\n",
       "  /* fitted */\n",
       "  background: var(--sklearn-color-fitted-level-0);\n",
       "  border: var(--sklearn-color-fitted-level-3);\n",
       "}\n",
       "\n",
       ".sk-estimator-doc-link:hover span {\n",
       "  display: block;\n",
       "}\n",
       "\n",
       "/* \"?\"-specific style due to the `<a>` HTML tag */\n",
       "\n",
       "#sk-container-id-1 a.estimator_doc_link {\n",
       "  float: right;\n",
       "  font-size: 1rem;\n",
       "  line-height: 1em;\n",
       "  font-family: monospace;\n",
       "  background-color: var(--sklearn-color-background);\n",
       "  border-radius: 1rem;\n",
       "  height: 1rem;\n",
       "  width: 1rem;\n",
       "  text-decoration: none;\n",
       "  /* unfitted */\n",
       "  color: var(--sklearn-color-unfitted-level-1);\n",
       "  border: var(--sklearn-color-unfitted-level-1) 1pt solid;\n",
       "}\n",
       "\n",
       "#sk-container-id-1 a.estimator_doc_link.fitted {\n",
       "  /* fitted */\n",
       "  border: var(--sklearn-color-fitted-level-1) 1pt solid;\n",
       "  color: var(--sklearn-color-fitted-level-1);\n",
       "}\n",
       "\n",
       "/* On hover */\n",
       "#sk-container-id-1 a.estimator_doc_link:hover {\n",
       "  /* unfitted */\n",
       "  background-color: var(--sklearn-color-unfitted-level-3);\n",
       "  color: var(--sklearn-color-background);\n",
       "  text-decoration: none;\n",
       "}\n",
       "\n",
       "#sk-container-id-1 a.estimator_doc_link.fitted:hover {\n",
       "  /* fitted */\n",
       "  background-color: var(--sklearn-color-fitted-level-3);\n",
       "}\n",
       "</style><div id=\"sk-container-id-1\" class=\"sk-top-container\"><div class=\"sk-text-repr-fallback\"><pre>KNeighborsClassifier()</pre><b>In a Jupyter environment, please rerun this cell to show the HTML representation or trust the notebook. <br />On GitHub, the HTML representation is unable to render, please try loading this page with nbviewer.org.</b></div><div class=\"sk-container\" hidden><div class=\"sk-item\"><div class=\"sk-estimator fitted sk-toggleable\"><input class=\"sk-toggleable__control sk-hidden--visually\" id=\"sk-estimator-id-1\" type=\"checkbox\" checked><label for=\"sk-estimator-id-1\" class=\"sk-toggleable__label fitted sk-toggleable__label-arrow fitted\">&nbsp;&nbsp;KNeighborsClassifier<a class=\"sk-estimator-doc-link fitted\" rel=\"noreferrer\" target=\"_blank\" href=\"https://scikit-learn.org/1.5/modules/generated/sklearn.neighbors.KNeighborsClassifier.html\">?<span>Documentation for KNeighborsClassifier</span></a><span class=\"sk-estimator-doc-link fitted\">i<span>Fitted</span></span></label><div class=\"sk-toggleable__content fitted\"><pre>KNeighborsClassifier()</pre></div> </div></div></div></div>"
      ],
      "text/plain": [
       "KNeighborsClassifier()"
      ]
     },
     "execution_count": 23,
     "metadata": {},
     "output_type": "execute_result"
    }
   ],
   "source": [
    "#Build\n",
    "#Instantiate the clasifier\n",
    "clf = neighbors.KNeighborsClassifier()\n",
    "clf.fit(x_train, y_train)"
   ]
  },
  {
   "cell_type": "code",
   "execution_count": 27,
   "id": "7af4d68e-a6d0-40e8-8102-bce6291769b6",
   "metadata": {},
   "outputs": [
    {
     "name": "stdout",
     "output_type": "stream",
     "text": [
      "              precision    recall  f1-score   support\n",
      "\n",
      "           0       0.80      1.00      0.89         4\n",
      "           1       1.00      0.67      0.80         3\n",
      "\n",
      "    accuracy                           0.86         7\n",
      "   macro avg       0.90      0.83      0.84         7\n",
      "weighted avg       0.89      0.86      0.85         7\n",
      "\n"
     ]
    }
   ],
   "source": [
    "#Check performance\n",
    "y_pred = clf.predict(x_test\n",
    "                    )\n",
    "y_expect = y_test\n",
    "\n",
    "#Evaluate\n",
    "print(metrics.classification_report(y_expect, y_pred))"
   ]
  },
  {
   "cell_type": "raw",
   "id": "50b2d731-ee76-4abe-b166-dab6ad118f10",
   "metadata": {},
   "source": [
    "Recall: A measure of your model’s completeness\n",
    "\n",
    "Of all your points that were labeled 1, only 67% of the results that were returned were truly relevant\n",
    "Of the entire dataset, 82% of the results that were returned were truly relevant\n",
    "High precision + Low recall = Few results returned, but many of the label predictions that are returned are correct."
   ]
  },
  {
   "cell_type": "markdown",
   "id": "a64de1a3-d7cc-4878-b618-e3d819d26354",
   "metadata": {},
   "source": [
    "Decission Tree with Classification and Regression"
   ]
  },
  {
   "cell_type": "raw",
   "id": "6b89e20c-916e-4dc6-90dd-dbb276a838e0",
   "metadata": {},
   "source": [
    "A decision tree is a decision-support tool that models decisions in order to predict probable outcomes of those decisions."
   ]
  },
  {
   "cell_type": "raw",
   "id": "683fabc1-1384-43a4-a547-14c17b80176d",
   "metadata": {},
   "source": [
    "Root node: Divides into 2 or more. This is the root\n",
    "Decission nodes: Where subnodes divide into subnodes\n",
    "Leaf nodes: Donot solit nodes. These are the end nodes"
   ]
  },
  {
   "cell_type": "raw",
   "id": "2f132cc0-075c-4dd8-ad81-ca97e959264a",
   "metadata": {},
   "source": [
    "Decission Tree Algorithm:\n",
    "Class of Supevised ML method where we use it for non Linear data predictions\n",
    "\n",
    "These are good for:\n",
    "Continuous input or output variables\n",
    "Categorical input or output variables"
   ]
  },
  {
   "cell_type": "raw",
   "id": "c01cc6eb-b9f3-41e6-9048-7196dd67b92d",
   "metadata": {},
   "source": [
    "Types of Decission Tree:\n",
    "\n",
    "Continuous variable decission tree aka Regression Tree: to predict continuous target variable\n",
    "\n",
    "categorical variable decission tree aka Classification trees: to predict categorical target avriable"
   ]
  },
  {
   "cell_type": "raw",
   "id": "5a32a3f0-00b7-4f36-8bc0-cfcd9311280f",
   "metadata": {},
   "source": [
    "Goof for:\n",
    "Non Linear data because this is a Non linear model\n",
    "Easy to implement, It is said that htese have close thinking to human barins, so easy to impliment and interpret\n",
    "Easy to represent grahyically\n",
    "Requeries less data preparation.\n",
    "These can handle categorical data even without one hot encoding"
   ]
  },
  {
   "cell_type": "raw",
   "id": "006a0183-1e09-439a-9aee-2ee21a5f7b58",
   "metadata": {},
   "source": [
    "Assumption:\n",
    "Root node = entire training set\n",
    "Predictive features either are categorical or (if continuous) they’re binned prior to model deployment\n",
    "Rows in the data set have a recursive distribution based on the values of attributes"
   ]
  },
  {
   "cell_type": "raw",
   "id": "299da835-48c1-4796-909a-9ffd570d2683",
   "metadata": {},
   "source": [
    "Recursive binary splitting\n",
    "is the process that’s used to segment a predictor space into regions in order to create a binary decision tree.\n",
    "\n",
    "Recursive binary splitting stops when the user-defined criteria is met."
   ]
  },
  {
   "cell_type": "raw",
   "id": "05b75f27-c895-416f-9018-a62f578e2a1c",
   "metadata": {},
   "source": [
    "How Recursive Binary Splitting Works\n",
    "\n",
    "At every stage, we split the region into two. And we do this by the following criteria:\n",
    "\n",
    "In regression trees: use the SSE(Sum square of error) to calculate the loss function (thus identifying the best split)\n",
    "In classification trees: use the Gini index to calculate the loss function (thus identifying the best split)"
   ]
  },
  {
   "cell_type": "raw",
   "id": "21ccdd8c-67cd-4e2d-96c0-d9cb3391dd0f",
   "metadata": {},
   "source": [
    "Characteristics of RBS:\n",
    "\n",
    "Top down approach: starts from one node, root node as one\n",
    "Greedy: It always splits with best for that node rather than looong at the end result\n",
    "\n",
    "\n",
    "Disvantages:\n",
    "Very non robusts: Small change in the test data can change a lot in the final estimated tree.\n",
    "Since it is greedy, we cannot guarentee that it will give the global optimum tree\n",
    "\n",
    "Best wat to tackel this is , train multiple trees by randomely sampling the train data."
   ]
  },
  {
   "cell_type": "raw",
   "id": "02e8cf95-1a8f-4e8e-b262-c14fc6864386",
   "metadata": {},
   "source": [
    "Regression Decesion tree / Continues:"
   ]
  },
  {
   "cell_type": "raw",
   "id": "64177114-c545-4a87-8e85-ecab87ed42fa",
   "metadata": {},
   "source": [
    "\n",
    "Can be used where variables are continuous\n",
    "When there is linear relationship between features and target\n"
   ]
  },
  {
   "cell_type": "raw",
   "id": "9766d1ee-b7f0-4005-9927-560f2201eb8a",
   "metadata": {},
   "source": [
    "Output variables from the terminal nodes represent mean response\n",
    "So, the values of new data or data points will be predicted using that mean value"
   ]
  },
  {
   "cell_type": "raw",
   "id": "d1cb78cf-ec30-4397-8f76-83299e5903eb",
   "metadata": {},
   "source": [
    "How the mechanics works under recursive decission tree splitting\n",
    "\n",
    "Recursive Splitting in Regression Trees\n",
    "\n",
    "At every stage in a regression tree, the region is split into two according to the sum of squares errors:\n",
    "The model begins with the entire data set, S, and searches every distinct value of every predictor to find the predictor and split value that partitions the data into two groups (S1 and S2) such that the overall sum of squares errors are minimized:"
   ]
  },
  {
   "cell_type": "raw",
   "id": "7ec4dbe2-4d4d-42d0-9877-3ffff5827930",
   "metadata": {},
   "source": [
    "Catagorical/ Classification Decission Tree:"
   ]
  },
  {
   "cell_type": "raw",
   "id": "bbebdc38-b74a-43bb-b070-cbde721680d0",
   "metadata": {},
   "source": [
    "Used when taget is binary or categorical\n",
    "    Here output values or the terminal nodes represent mode response"
   ]
  },
  {
   "cell_type": "raw",
   "id": "b062af06-66d5-4e3d-a241-3f192dc98a7f",
   "metadata": {},
   "source": [
    "How recursive splitting happens here?\n",
    "\n",
    "At every stage in a classification tree, the region is split into two according to a user-defined metric"
   ]
  },
  {
   "cell_type": "raw",
   "id": "f3eb2c75-5cf5-4a03-922f-d85631ea3749",
   "metadata": {},
   "source": [
    "Important:\n",
    "Tree Pruning\n",
    "\n",
    "Tree pruning is the process that’s used to overcome model overfitting by removing sub-nodes of a decision tree (that is, replacing a whole subtree by a leaf node).\n",
    "\n",
    "Reason:\n",
    "If we goo too deep, it will work good on training data, but bad on test because of over fitting\n",
    "\n",
    "\n",
    "Types of prunig:\n",
    "Hold-out test pruning : fastest, simplest, : Each leaf node in the tree is evaluated by testing the effect of its removing by using the hold-out test set. A leaf node is removed only if its removal results in the overall cost function on entire dataset. Process continues untill no improvements can be made.\n",
    "cost complexity pruning : Also known as weakest link pruning. Involves a learing parameter alpha to decide if hte node can be removeed based on the size of the subtree"
   ]
  },
  {
   "cell_type": "markdown",
   "id": "854d9929-4aa1-42b2-96aa-545ed639ddbc",
   "metadata": {},
   "source": [
    "Naïve Bayes Classifiers\n"
   ]
  },
  {
   "cell_type": "raw",
   "id": "7afddc50-b78f-4c34-8f8b-bfdfaf6a2d8e",
   "metadata": {},
   "source": [
    "\n",
    "Naïve Bayes is a machine learning method you can use to predict the likelihood that an event will occur given evidence that's present in your data."
   ]
  },
  {
   "cell_type": "raw",
   "id": "a9ca3184-17a5-4f3f-96f3-3bbe78e27282",
   "metadata": {},
   "source": [
    "Three Types of Naïve Bayes Model\n",
    "\n",
    "Multinomial—good for when your features (categorical or continuous) describe discrete frequency counts (for example, word counts).\n",
    "Bernoulli—good for making predictions from binary features.\n",
    "Gaussian—good for making predictions from normally distributed features."
   ]
  },
  {
   "cell_type": "raw",
   "id": "8d05d951-636b-4801-bba4-ab7afbc524b9",
   "metadata": {},
   "source": [
    "Predictors are independent of each other\n",
    "A priori assumption—The assumption that the past conditions still hold true; when we make predictions from historical values, we will get incorrect results if present circumstances have changed\n",
    "All regression models maintain an a priori assumption as well."
   ]
  },
  {
   "cell_type": "code",
   "execution_count": 3,
   "id": "ebb4f678-c368-434c-8dd1-480a2acfcf96",
   "metadata": {},
   "outputs": [],
   "source": [
    "import numpy as np\n",
    "import pandas as pd\n",
    "\n",
    "import urllib\n",
    "\n",
    "import sklearn\n",
    "\n",
    "from sklearn.model_selection import train_test_split\n",
    "from sklearn import metrics\n",
    "from sklearn.metrics import accuracy_score"
   ]
  },
  {
   "cell_type": "code",
   "execution_count": 4,
   "id": "35837185-e9d6-4c89-adaf-fb10e0a8483f",
   "metadata": {},
   "outputs": [],
   "source": [
    "from sklearn.naive_bayes import BernoulliNB, GaussianNB, MultinomialNB"
   ]
  },
  {
   "cell_type": "code",
   "execution_count": 5,
   "id": "bae2cf92-e88d-4714-bdfe-8a7e5ceb39f2",
   "metadata": {},
   "outputs": [],
   "source": [
    "url = \"https://archive.ics.uci.edu/ml/machine-learning-databases/spambase/spambase.data\""
   ]
  },
  {
   "cell_type": "code",
   "execution_count": 7,
   "id": "93d087af-e9cd-49ba-aef7-4324e766b634",
   "metadata": {},
   "outputs": [
    {
     "data": {
      "text/plain": [
       "'https://archive.ics.uci.edu/ml/machine-learning-databases/spambase/spambase.data'"
      ]
     },
     "execution_count": 7,
     "metadata": {},
     "output_type": "execute_result"
    }
   ],
   "source": [
    "url\n"
   ]
  },
  {
   "cell_type": "code",
   "execution_count": 10,
   "id": "29948628-4b64-42ec-9f1a-859493cf1ec8",
   "metadata": {},
   "outputs": [],
   "source": [
    "import urllib.request"
   ]
  },
  {
   "cell_type": "code",
   "execution_count": 11,
   "id": "84112103-b488-4d14-9acd-ff21bcc39fed",
   "metadata": {},
   "outputs": [],
   "source": [
    "raw_data = urllib.request.urlopen(url)"
   ]
  },
  {
   "cell_type": "code",
   "execution_count": 12,
   "id": "0adedf16-c182-455b-ac95-6e1f053e4f26",
   "metadata": {},
   "outputs": [
    {
     "data": {
      "text/plain": [
       "<http.client.HTTPResponse at 0x1ff6ffe40a0>"
      ]
     },
     "execution_count": 12,
     "metadata": {},
     "output_type": "execute_result"
    }
   ],
   "source": [
    "raw_data"
   ]
  },
  {
   "cell_type": "code",
   "execution_count": 15,
   "id": "f4d8c550-4b4b-4e3f-a38f-cf7bb6b5cb99",
   "metadata": {},
   "outputs": [],
   "source": [
    "dataset = np.loadtxt(raw_data, delimiter = \",\")"
   ]
  },
  {
   "cell_type": "code",
   "execution_count": 16,
   "id": "54084da5-d0d2-437a-9187-27d59c32b344",
   "metadata": {},
   "outputs": [
    {
     "name": "stdout",
     "output_type": "stream",
     "text": [
      "[  0.      0.64    0.64    0.      0.32    0.      0.      0.      0.\n",
      "   0.      0.      0.64    0.      0.      0.      0.32    0.      1.29\n",
      "   1.93    0.      0.96    0.      0.      0.      0.      0.      0.\n",
      "   0.      0.      0.      0.      0.      0.      0.      0.      0.\n",
      "   0.      0.      0.      0.      0.      0.      0.      0.      0.\n",
      "   0.      0.      0.      0.      0.      0.      0.778   0.      0.\n",
      "   3.756  61.    278.      1.   ]\n"
     ]
    }
   ],
   "source": [
    "print(dataset[0])"
   ]
  },
  {
   "cell_type": "code",
   "execution_count": 18,
   "id": "3bf39857-9320-452b-8545-beecc9dce69e",
   "metadata": {},
   "outputs": [],
   "source": [
    "x = dataset[:, 0:48]\n",
    "y = dataset[:, -1]\n",
    "\n"
   ]
  },
  {
   "cell_type": "code",
   "execution_count": 25,
   "id": "80f872d2-7a80-482b-a119-a880b8bfa19c",
   "metadata": {},
   "outputs": [],
   "source": [
    "#split data\n",
    "x_train, x_test, y_train, y_test = train_test_split(x,y, test_size = 0.2, random_state = 17)"
   ]
  },
  {
   "cell_type": "code",
   "execution_count": 26,
   "id": "96bd38f9-1842-42c6-9ebe-36f0d9d1c204",
   "metadata": {},
   "outputs": [
    {
     "name": "stdout",
     "output_type": "stream",
     "text": [
      "0.8577633007600435\n"
     ]
    }
   ],
   "source": [
    "#Bernoulli\n",
    "BernNB = BernoulliNB(binarize=True)\n",
    "BernNB.fit(x_train, y_train)\n",
    "\n",
    "y_expect = y_test\n",
    "y_pred = BernNB.predict(x_test)\n",
    "\n",
    "print(accuracy_score(y_expect, y_pred))"
   ]
  },
  {
   "cell_type": "code",
   "execution_count": 27,
   "id": "c4ef126c-cc26-4e9c-adb4-0a3ac2765769",
   "metadata": {},
   "outputs": [
    {
     "name": "stdout",
     "output_type": "stream",
     "text": [
      "0.8816503800217155\n"
     ]
    }
   ],
   "source": [
    "#Checking for multinoal \n",
    "MultiNB = MultinomialNB()\n",
    "MultiNB.fit(x_train, y_train)\n",
    "\n",
    "y_expect = y_test\n",
    "y_pred = MultiNB.predict(x_test)\n",
    "\n",
    "print(accuracy_score(y_expect, y_pred))"
   ]
  },
  {
   "cell_type": "code",
   "execution_count": 28,
   "id": "59d5ee7e-12de-4fa5-be17-dfd5fb9ce000",
   "metadata": {},
   "outputs": [
    {
     "name": "stdout",
     "output_type": "stream",
     "text": [
      "0.8197611292073833\n"
     ]
    }
   ],
   "source": [
    "GausNB = GaussianNB()\n",
    "GausNB.fit(x_train, y_train)\n",
    "\n",
    "y_expect = y_test\n",
    "y_pred = GausNB.predict(x_test)\n",
    "\n",
    "print(accuracy_score(y_expect, y_pred))"
   ]
  },
  {
   "cell_type": "code",
   "execution_count": 29,
   "id": "e8efed92-f471-4f3c-91f7-d9fb93db1a1e",
   "metadata": {},
   "outputs": [
    {
     "name": "stdout",
     "output_type": "stream",
     "text": [
      "0.9109663409337676\n"
     ]
    }
   ],
   "source": [
    "#Bernoulli\n",
    "BernNB = BernoulliNB(binarize=0.1)\n",
    "BernNB.fit(x_train, y_train)\n",
    "\n",
    "y_expect = y_test\n",
    "y_pred = BernNB.predict(x_test)\n",
    "\n",
    "print(accuracy_score(y_expect, y_pred))"
   ]
  },
  {
   "cell_type": "code",
   "execution_count": 30,
   "id": "7fbf3bee-0ea6-4f62-826c-1a77796a2f55",
   "metadata": {},
   "outputs": [],
   "source": [
    "#This worked well becaues we changed with 0.1 instead of true"
   ]
  },
  {
   "cell_type": "markdown",
   "id": "4a0f32ed-30da-4acc-a7db-88d2a4e772a5",
   "metadata": {},
   "source": [
    "Ensemble Models with Random Forest"
   ]
  },
  {
   "cell_type": "raw",
   "id": "7f980e87-0a6d-40c0-97ee-b2cbb91b4b03",
   "metadata": {},
   "source": [
    "#Ensemble models are machine learning methods that combine several base models to produce one optimal predictive model. They combine decisions from multiple models to improve the overall performance."
   ]
  },
  {
   "cell_type": "code",
   "execution_count": 32,
   "id": "f0a4fae5-bd46-452d-9172-9acfac6d543d",
   "metadata": {},
   "outputs": [],
   "source": [
    "#This can have same algorithm more than once\n",
    "#Or many typees of algorithms aggregated\n",
    "\n",
    "#Random forest is an ensemble of Decision trees"
   ]
  },
  {
   "cell_type": "raw",
   "id": "44e97405-88bc-44e1-816e-0594823e1d4b",
   "metadata": {},
   "source": [
    "Types of Ensemble Methods\n",
    "\n",
    "Majority (max) voting : It picks result based on the majority votes from different models. Generally used in Classification problems.\n",
    "if 4 rated restraunt 8 and 2 voted 5, the result will be 8 as majority of th#e people voted 8.\n",
    "\n",
    "Averaging : Averages the mutiple predictions. Can be used in both Classification and regression problems.\n",
    "\n",
    "Weighted averaging: Alocates weight  to models and averages it.\n",
    "\n",
    "Bagging: Combines the models results to get final result. Decisison trees are used frequently. Here creates subsets of original data & run differnt models on the subsets. Aggregate result. Run models in parallell.\n",
    "\n",
    "Boosting : Complex version of bagging. Here models run in sequential ranther than parallel.\n",
    "Steps in Boosting: \n",
    "Create a subset of data.\n",
    "Run a model on the subset of data and get the predictions.\n",
    "Calculate errors on these predictions.\n",
    "Assign weights to the incorrect predictions.\n",
    "Create another model with the same data, and the next subset of data is created.\n",
    "The cycle repeats until a strong learner is created."
   ]
  },
  {
   "cell_type": "markdown",
   "id": "cb191f60-d5b6-493d-b4fd-c3c28a5faadd",
   "metadata": {},
   "source": [
    "Random Forest"
   ]
  },
  {
   "cell_type": "raw",
   "id": "e139d6d9-6820-49f9-aa29-927c552aa908",
   "metadata": {},
   "source": [
    "RF is a ensemble model which used bagging method. Uses decision trees to form ensembles. Can be used for both classification and regression problems"
   ]
  },
  {
   "cell_type": "raw",
   "id": "00b3ffca-e941-4e3f-b706-ed2c547e30cb",
   "metadata": {},
   "source": [
    "How It Works\n",
    "\n",
    "When predicting a new value for a target feature, each tree is using either regression or classification to come up with a value that serves as a \"vote.\" The random forest algorithm then takes an average of all the votes from all the trees in the ensemble. This average is the predicted value of the target feature for the variable in question."
   ]
  },
  {
   "cell_type": "raw",
   "id": "c5731f58-919d-4750-9190-641938d47ecf",
   "metadata": {},
   "source": [
    "Create a random subset from the original data.\n",
    "Randomly select a set of features at each node in the decision tree.\n",
    "Decide the best split.\n",
    "For each subset of data, create a separate model (a \"base learner\").\n",
    "Compute the final prediction from all the individual models by averaging the predictions from all the individual models."
   ]
  },
  {
   "cell_type": "raw",
   "id": "50dad1e7-e934-4d9e-bf22-01fa9b2e9268",
   "metadata": {},
   "source": [
    "Advantages\n",
    "\n",
    "Easy to understand\n",
    "Useful for data exploration\n",
    "Reduced data cleaning (scaling not required)\n",
    "Handles multiple data types\n",
    "Highly flexible and gives good accuracy\n",
    "Works well on large datasets\n",
    "Overfitting is avoided (due to averaging)\n",
    "Disadvantages\n",
    "\n",
    "Overfitting\n",
    "Not for continuous variables\n",
    "Does not work well with sparse datasets\n",
    "Computationally expensive\n",
    "No interpretability"
   ]
  },
  {
   "cell_type": "markdown",
   "id": "23cbbb53-6f6e-4569-ad78-f93eec9bab05",
   "metadata": {},
   "source": [
    "This is a classification problem, where in we will be estimating the species label for iris flowers."
   ]
  },
  {
   "cell_type": "code",
   "execution_count": 2,
   "id": "64ad5ad6-497e-449d-93bb-3ac202528872",
   "metadata": {},
   "outputs": [],
   "source": [
    "import numpy as np\n",
    "import pandas as pd\n",
    "\n",
    "import sklearn.datasets as datasets\n",
    "from sklearn.model_selection import train_test_split \n",
    "from sklearn import metrics"
   ]
  },
  {
   "cell_type": "code",
   "execution_count": 3,
   "id": "268f42b9-194b-4c43-b71a-05cd590f2be2",
   "metadata": {},
   "outputs": [],
   "source": [
    "from sklearn.ensemble import RandomForestClassifier"
   ]
  },
  {
   "cell_type": "code",
   "execution_count": 4,
   "id": "883b708b-a154-476d-b50a-67cfbc0fad70",
   "metadata": {},
   "outputs": [],
   "source": [
    "iris = datasets.load_iris()\n",
    "\n",
    "df = pd.DataFrame(iris.data, columns=iris.feature_names)\n",
    "y = pd.DataFrame(iris.target)"
   ]
  },
  {
   "cell_type": "code",
   "execution_count": 5,
   "id": "29b1ea7c-b348-4f8a-a6c1-8aec22b44dc0",
   "metadata": {},
   "outputs": [
    {
     "name": "stdout",
     "output_type": "stream",
     "text": [
      "   sepal length (cm)  sepal width (cm)  petal length (cm)  petal width (cm)\n",
      "0                5.1               3.5                1.4               0.2\n",
      "1                4.9               3.0                1.4               0.2\n",
      "2                4.7               3.2                1.3               0.2\n",
      "3                4.6               3.1                1.5               0.2\n",
      "4                5.0               3.6                1.4               0.2\n"
     ]
    },
    {
     "data": {
      "text/html": [
       "<div>\n",
       "<style scoped>\n",
       "    .dataframe tbody tr th:only-of-type {\n",
       "        vertical-align: middle;\n",
       "    }\n",
       "\n",
       "    .dataframe tbody tr th {\n",
       "        vertical-align: top;\n",
       "    }\n",
       "\n",
       "    .dataframe thead th {\n",
       "        text-align: right;\n",
       "    }\n",
       "</style>\n",
       "<table border=\"1\" class=\"dataframe\">\n",
       "  <thead>\n",
       "    <tr style=\"text-align: right;\">\n",
       "      <th></th>\n",
       "      <th>labels</th>\n",
       "    </tr>\n",
       "  </thead>\n",
       "  <tbody>\n",
       "    <tr>\n",
       "      <th>0</th>\n",
       "      <td>0</td>\n",
       "    </tr>\n",
       "    <tr>\n",
       "      <th>1</th>\n",
       "      <td>0</td>\n",
       "    </tr>\n",
       "    <tr>\n",
       "      <th>2</th>\n",
       "      <td>0</td>\n",
       "    </tr>\n",
       "    <tr>\n",
       "      <th>3</th>\n",
       "      <td>0</td>\n",
       "    </tr>\n",
       "    <tr>\n",
       "      <th>4</th>\n",
       "      <td>0</td>\n",
       "    </tr>\n",
       "  </tbody>\n",
       "</table>\n",
       "</div>"
      ],
      "text/plain": [
       "   labels\n",
       "0       0\n",
       "1       0\n",
       "2       0\n",
       "3       0\n",
       "4       0"
      ]
     },
     "execution_count": 5,
     "metadata": {},
     "output_type": "execute_result"
    }
   ],
   "source": [
    "y.columns = ['labels']\n",
    "\n",
    "print(df.head())\n",
    "y[0:5]"
   ]
  },
  {
   "cell_type": "code",
   "execution_count": 6,
   "id": "8853eff5-658c-49e6-8c6a-e1c946723942",
   "metadata": {},
   "outputs": [
    {
     "data": {
      "text/plain": [
       "sepal length (cm)    False\n",
       "sepal width (cm)     False\n",
       "petal length (cm)    False\n",
       "petal width (cm)     False\n",
       "dtype: bool"
      ]
     },
     "execution_count": 6,
     "metadata": {},
     "output_type": "execute_result"
    }
   ],
   "source": [
    "df.isnull().any()==True"
   ]
  },
  {
   "cell_type": "code",
   "execution_count": 7,
   "id": "662143b2-6915-4945-908d-8072084ddad4",
   "metadata": {},
   "outputs": [
    {
     "name": "stdout",
     "output_type": "stream",
     "text": [
      "labels\n",
      "0    50\n",
      "1    50\n",
      "2    50\n",
      "Name: count, dtype: int64\n"
     ]
    }
   ],
   "source": [
    "print(y.labels.value_counts())"
   ]
  },
  {
   "cell_type": "code",
   "execution_count": null,
   "id": "1797b327-50e8-42ab-ab4f-1568a4936145",
   "metadata": {},
   "outputs": [],
   "source": []
  }
 ],
 "metadata": {
  "kernelspec": {
   "display_name": "Python 3 (ipykernel)",
   "language": "python",
   "name": "python3"
  },
  "language_info": {
   "codemirror_mode": {
    "name": "ipython",
    "version": 3
   },
   "file_extension": ".py",
   "mimetype": "text/x-python",
   "name": "python",
   "nbconvert_exporter": "python",
   "pygments_lexer": "ipython3",
   "version": "3.12.4"
  }
 },
 "nbformat": 4,
 "nbformat_minor": 5
}
