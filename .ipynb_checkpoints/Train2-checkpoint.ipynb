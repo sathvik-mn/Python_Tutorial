{
 "cells": [
  {
   "cell_type": "markdown",
   "id": "7e7f06d4-041b-4d2a-94ac-40ab59d76ccf",
   "metadata": {},
   "source": [
    "KNN Clasification"
   ]
  },
  {
   "cell_type": "raw",
   "id": "c31d73c6-5394-45fd-b1db-898df5e9ae62",
   "metadata": {},
   "source": [
    "A supervised classifier that memorizes observations from within a test set to predict classification labels for new, unlabeled observations\n",
    "Supervised machine learinng metjod can be used to classify the instanses based on the arithematic deference between the features and the labeled datasets"
   ]
  },
  {
   "cell_type": "raw",
   "id": "f50cd3a5-4a3f-4dd0-a6fe-582778f71ab3",
   "metadata": {},
   "source": [
    "K-NN makes predictions based on how similar training observations are to the new, incoming observations. The more similar the observation values, the more likely they will be classified with the same label."
   ]
  },
  {
   "cell_type": "raw",
   "id": "245d9773-275c-4ec3-b86b-b340b188c29a",
   "metadata": {},
   "source": [
    "Dataset has little noise\n",
    "Dataset is labeled\n",
    "Dataset only contains relevant features\n",
    "Dataset has distinguishable subgroups\n",
    "\n",
    "✔ Avoid using k-NN on large datasets. It will probably take a long time!"
   ]
  }
 ],
 "metadata": {
  "kernelspec": {
   "display_name": "Python 3 (ipykernel)",
   "language": "python",
   "name": "python3"
  },
  "language_info": {
   "codemirror_mode": {
    "name": "ipython",
    "version": 3
   },
   "file_extension": ".py",
   "mimetype": "text/x-python",
   "name": "python",
   "nbconvert_exporter": "python",
   "pygments_lexer": "ipython3",
   "version": "3.12.4"
  }
 },
 "nbformat": 4,
 "nbformat_minor": 5
}
